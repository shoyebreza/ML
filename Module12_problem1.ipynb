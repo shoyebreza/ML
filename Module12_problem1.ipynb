{
 "cells": [
  {
   "cell_type": "code",
   "execution_count": 5,
   "id": "41b622ca-df19-41a7-9967-6c67d99191bc",
   "metadata": {},
   "outputs": [
    {
     "name": "stdout",
     "output_type": "stream",
     "text": [
      "          name  population     area\n",
      "0  Afghanistan    25500100   652230\n",
      "2      Algeria    37100000  2381741\n"
     ]
    }
   ],
   "source": [
    "import pandas as pd\n",
    "\n",
    "data = pd.read_csv('world.csv')\n",
    "world = pd.DataFrame(data)\n",
    "\n",
    "\n",
    "def big_countries(world: pd.DataFrame) -> pd.DataFrame:\n",
    "    condition = (world['area'] >= 3000000) | (world['population'] >= 25000000)\n",
    "    return world.loc[condition, ['name', 'population', 'area']]\n",
    "\n",
    "\n",
    "result = big_countries(world)\n",
    "\n",
    "print(result)\n"
   ]
  }
 ],
 "metadata": {
  "kernelspec": {
   "display_name": "Python [conda env:base] *",
   "language": "python",
   "name": "conda-base-py"
  },
  "language_info": {
   "codemirror_mode": {
    "name": "ipython",
    "version": 3
   },
   "file_extension": ".py",
   "mimetype": "text/x-python",
   "name": "python",
   "nbconvert_exporter": "python",
   "pygments_lexer": "ipython3",
   "version": "3.13.5"
  }
 },
 "nbformat": 4,
 "nbformat_minor": 5
}

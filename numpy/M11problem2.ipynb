{
 "cells": [
  {
   "cell_type": "code",
   "execution_count": null,
   "id": "092dfaef-e1da-433f-b77a-f6b4ca977769",
   "metadata": {},
   "outputs": [],
   "source": [
    "import numpy as np \n",
    "\n",
    "def matrix_dot_vector(a: list[list[int | float]], b: list[int | float]) -> list[int | float]:\n",
    "    a = np.array(a)\n",
    "    b = np.array(b)\n",
    "    shape_a = a.shape\n",
    "    if shape_a[1] != b.size:\n",
    "        return -1\n",
    "\n",
    "    dot = np.dot(a, b).tolist()\n",
    "    return dot\n",
    "\n",
    "\n",
    "# test code\n",
    "a = [[1, 2], [2, 4]]\n",
    "b = [1, 2]\n",
    "print(matrix_dot_vector(a, b))\n"
   ]
  }
 ],
 "metadata": {
  "kernelspec": {
   "display_name": "Python 3",
   "language": "python",
   "name": "python3"
  },
  "language_info": {
   "codemirror_mode": {
    "name": "ipython",
    "version": 3
   },
   "file_extension": ".py",
   "mimetype": "text/x-python",
   "name": "python",
   "nbconvert_exporter": "python",
   "pygments_lexer": "ipython3",
   "version": "3.13.2"
  }
 },
 "nbformat": 4,
 "nbformat_minor": 5
}

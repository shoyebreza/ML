{
 "cells": [
  {
   "cell_type": "code",
   "execution_count": 3,
   "id": "092dfaef-e1da-433f-b77a-f6b4ca977769",
   "metadata": {},
   "outputs": [],
   "source": [
    "import numpy as np \n",
    "\n",
    "def matrix_dot_vector(a:list[list[int|float]], b:list[int|float])->list[int|float]:\n",
    "    a = np.array(a)\n",
    "    b = np.array(b)\n",
    "    "
   ]
  },
  {
   "cell_type": "code",
   "execution_count": null,
   "id": "d3f4e494-dd7c-491e-9fe3-4dc11a184ac6",
   "metadata": {},
   "outputs": [],
   "source": []
  }
 ],
 "metadata": {
  "kernelspec": {
   "display_name": "Python [conda env:base] *",
   "language": "python",
   "name": "conda-base-py"
  },
  "language_info": {
   "codemirror_mode": {
    "name": "ipython",
    "version": 3
   },
   "file_extension": ".py",
   "mimetype": "text/x-python",
   "name": "python",
   "nbconvert_exporter": "python",
   "pygments_lexer": "ipython3",
   "version": "3.13.5"
  }
 },
 "nbformat": 4,
 "nbformat_minor": 5
}

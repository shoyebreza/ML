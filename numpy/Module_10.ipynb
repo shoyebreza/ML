{
 "cells": [
  {
   "cell_type": "code",
   "execution_count": 38,
   "id": "959f60c6-a855-4ade-8921-90cb6853f780",
   "metadata": {},
   "outputs": [],
   "source": [
    "arr = [1,2,3]\n",
    "\n",
    "print( arr * 5 )\n",
    "\n",
    "arr = [ x*5 for x in arr] \n",
    "\n",
    "print(arr)"
   ]
  },
  {
   "cell_type": "code",
   "execution_count": 39,
   "id": "abf386d7-85d3-4717-b620-72a53175e752",
   "metadata": {},
   "outputs": [],
   "source": [
    "import numpy as np \n",
    "\n",
    "arr1 = np.array([1,2,3]) \n",
    "\n",
    "arr1 = arr1 * 5\n",
    "\n",
    "print(arr1)"
   ]
  },
  {
   "cell_type": "markdown",
   "id": "034c670c-4412-45f8-a0c1-59c7cb7f650e",
   "metadata": {},
   "source": [
    "## Ndarray"
   ]
  },
  {
   "cell_type": "code",
   "execution_count": 1,
   "id": "da5ae322-5e3b-4e26-9284-55d4b5b5dbcd",
   "metadata": {},
   "outputs": [],
   "source": [
    "import numpy as np \n",
    "\n",
    "# 1d array \n",
    "arr1 = np.array([1,2,3,4,5])\n",
    "\n",
    "\n",
    "# 2d array \n",
    "arr2 = np.array([ [1,2,3], # row1\n",
    "                  [4,5,6] #row2\n",
    "                ])\n",
    "\n",
    "#3d array \n",
    "\n",
    "arr3 = np.array([\n",
    "    #1st floor\n",
    "    [ [1,2,3], # row1\n",
    "      [4,5,6]  ], #row2 \n",
    "\n",
    "    #2nd floor\n",
    "\n",
    "     [[1,2,3], # row1\n",
    "      [4,5,6]  ], #row2  \n",
    "\n",
    "\n",
    "    #3rd floor\n",
    "      [[1,2,3], # row1\n",
    "      [4,5,6]  ] #row2  \n",
    "\n",
    "    \n",
    "])\n"
   ]
  },
  {
   "cell_type": "markdown",
   "id": "a6d97c87-51fb-41df-9315-d95612d4dc09",
   "metadata": {},
   "source": [
    "## Array attributes "
   ]
  },
  {
   "cell_type": "code",
   "execution_count": 2,
   "id": "d8980851-dad1-439e-ad28-664a44cd1752",
   "metadata": {},
   "outputs": [],
   "source": [
    "# dimension \n",
    "print(arr1.ndim)\n",
    "print(arr2.ndim)\n",
    "print(arr3.ndim) \n",
    "\n",
    "\n",
    "#shape \n",
    "print(arr1.shape)\n",
    "print(arr2.shape)\n",
    "print(arr3.shape) \n",
    "\n",
    "\n",
    "#data type \n",
    "print(arr1.dtype)\n",
    "print(arr2.dtype)\n",
    "print(arr3.dtype)\n",
    "\n",
    "\n",
    "#size \n",
    "print(arr1.size)\n",
    "print(arr2.size)\n",
    "print(arr3.size)\n"
   ]
  },
  {
   "cell_type": "markdown",
   "id": "8f441ac2-e0ea-475f-8b5d-2c5331726234",
   "metadata": {},
   "source": [
    "## ndarray data type\n"
   ]
  },
  {
   "cell_type": "code",
   "execution_count": 42,
   "id": "8ea25a7a-8f24-4bc2-a21f-6c53d20793e4",
   "metadata": {},
   "outputs": [],
   "source": [
    "arr = np.array([1,2,3]) \n",
    "\n",
    "print(arr.dtype)\n",
    "\n",
    "arr = np.array([1.5,2.4,3.2]) \n",
    "print(arr.dtype)"
   ]
  },
  {
   "cell_type": "code",
   "execution_count": 43,
   "id": "94080237-abf4-40db-8ea8-6b3682154ef6",
   "metadata": {},
   "outputs": [],
   "source": [
    "arr = np.array([1,2,3.2]) \n",
    "# upcasted to float \n",
    "print(arr.dtype) \n",
    "\n",
    "#upcasted to string\n",
    "arr = np.array([1,2,3.2,'hello']) \n",
    "print(arr.dtype) \n",
    "\n",
    "\n",
    "arr = np.array([1,True,3.25,'hello',]) \n",
    "print(arr.dtype) "
   ]
  },
  {
   "cell_type": "markdown",
   "id": "5730fe97-c34f-4bac-ab1c-6f7930d88808",
   "metadata": {},
   "source": [
    "### selecting a data type for an array"
   ]
  },
  {
   "cell_type": "code",
   "execution_count": 44,
   "id": "28faf07c-2b44-45e5-a4d8-ece9f3ed1b27",
   "metadata": {},
   "outputs": [],
   "source": [
    "arr = np.array([1,2,300],dtype=np.int16)\n",
    "print(arr.dtype)\n",
    "print(arr)\n",
    "\n",
    "\n",
    "\n",
    "\n",
    "arr = arr.astype(np.int32)\n",
    "print(arr.dtype)\n",
    "\n",
    "\n",
    "#error\n",
    "arr = np.array([1,2,3.2,'hello'],dtype=np.float64) "
   ]
  },
  {
   "cell_type": "markdown",
   "id": "49d356cc-ce7f-49ce-a9ed-34f6e8f25e6c",
   "metadata": {},
   "source": [
    "## ndarray creation from existing data"
   ]
  },
  {
   "cell_type": "code",
   "execution_count": 45,
   "id": "af1e9c6f-2cab-4c2d-9ffc-ada452be4f2a",
   "metadata": {},
   "outputs": [],
   "source": [
    "#list \n",
    "\n",
    "lst = [10,20,30,40 , 40.5] \n",
    "\n",
    "arr = np.array(lst, dtype=np.int32) \n",
    "\n",
    "# print(arr) \n",
    "# print(type(arr)) \n",
    "# print(arr.dtype) \n",
    "\n",
    "\n",
    "mixed_lst = [10, True , 'Hello' ]\n",
    "\n",
    "arr = np.array(mixed_lst) \n",
    "\n",
    "# print(arr) \n",
    "# print(type(arr)) \n",
    "# print(arr.dtype) \n",
    "\n",
    "\n",
    "matrix = [ [1,2,3], # row1\n",
    "           [4,5,6] #row2\n",
    "                ]\n",
    "\n",
    "arr = np.array(matrix) \n",
    "\n",
    "print(arr) \n",
    "print(type(arr)) \n",
    "print(arr.dtype) \n",
    "print(arr.shape) \n",
    "print(arr.ndim) \n",
    "\n",
    "\n"
   ]
  },
  {
   "cell_type": "code",
   "execution_count": 46,
   "id": "9d03082f-7b44-413e-8f04-4447e6991780",
   "metadata": {},
   "outputs": [],
   "source": [
    "#tuple \n",
    "\n",
    "tpl = (10,20,30) \n",
    "\n",
    "arr = np.array(tpl,dtype=np.int32)\n",
    "print(arr.dtype) \n",
    "arr = arr.astype(np.int16)\n",
    "print(arr) \n",
    "print(type(arr)) \n",
    "print(arr.dtype) \n",
    "print(arr.shape) \n",
    "print(arr.ndim) \n"
   ]
  },
  {
   "cell_type": "code",
   "execution_count": 47,
   "id": "95c2d38d-7a79-4e4b-b55d-af138cdacf1f",
   "metadata": {},
   "outputs": [],
   "source": [
    "#set \n",
    "\n",
    "st = { 1, 2, 3 }\n",
    "\n",
    "arr = np.array(list(st))\n",
    "# print(arr.dtype) \n",
    "arr = arr.astype(np.int16)\n",
    "print(arr) \n",
    "print(type(arr)) \n",
    "print(arr.dtype) \n",
    "print(arr.shape) \n",
    "print(arr.ndim) \n"
   ]
  },
  {
   "cell_type": "code",
   "execution_count": 48,
   "id": "963d50f4-203a-4ad4-8c11-3bb3e69bef12",
   "metadata": {},
   "outputs": [],
   "source": [
    "# dictionary \n",
    "\n",
    "dc = { 'a' : 10 , 'b' : 20 , 'c' :30 }\n",
    "\n",
    "keys = dc.keys()\n",
    "values = dc.values()\n",
    "items = dc.items()\n",
    "\n"
   ]
  },
  {
   "cell_type": "code",
   "execution_count": 49,
   "id": "fa4289ec-a8cf-4e6f-97a6-c88f847d9ce4",
   "metadata": {},
   "outputs": [],
   "source": [
    "#keys to ndarray\n",
    "arr = np.array(list(keys))\n",
    "print(arr) \n",
    "print(type(arr)) \n",
    "print(arr.dtype) \n",
    "print(arr.shape) \n",
    "print(arr.ndim)\n",
    "print(arr.size)"
   ]
  },
  {
   "cell_type": "code",
   "execution_count": 50,
   "id": "b1c8c388-a5bc-44ec-8b3c-c06d1b2ccd9e",
   "metadata": {},
   "outputs": [],
   "source": [
    "#values to ndarray\n",
    "arr = np.array(list(values))\n",
    "print(arr) \n",
    "arr = arr.astype(np.int16)\n",
    "print(type(arr)) \n",
    "print(arr.dtype) \n",
    "print(arr.shape) \n",
    "print(arr.ndim)\n",
    "print(arr.size)"
   ]
  },
  {
   "cell_type": "code",
   "execution_count": 51,
   "id": "62b434ba-8103-417f-acf3-e182a9bc8ebc",
   "metadata": {},
   "outputs": [],
   "source": [
    "#items to ndarray\n",
    "arr = np.array(list(items))\n",
    "print(arr) \n",
    "print(type(arr)) \n",
    "print(arr.dtype) \n",
    "print(arr.shape) \n",
    "print(arr.ndim)\n",
    "print(arr.size)"
   ]
  },
  {
   "cell_type": "markdown",
   "id": "d819f8b1-99ed-4752-9cfd-8706d51df18d",
   "metadata": {},
   "source": [
    "## Creating ndarray from scratch"
   ]
  },
  {
   "cell_type": "code",
   "execution_count": 52,
   "id": "15c4f8de-af0b-4d2b-bd33-144a2aa8b862",
   "metadata": {},
   "outputs": [],
   "source": [
    "# np.zeros\n",
    "\n",
    "arr = np.zeros((2,3),dtype=np.int8)\n",
    "\n",
    "# print(arr) \n",
    "# print(type(arr)) \n",
    "# print(arr.dtype) \n",
    "# print(arr.shape) \n",
    "# print(arr.ndim)\n",
    "# print(arr.size)\n",
    "\n",
    "arr = np.zeros_like(arr3) ## arr3 shape same \n",
    "print(arr)\n",
    "print(arr.shape) "
   ]
  },
  {
   "cell_type": "code",
   "execution_count": 53,
   "id": "14226cd0-9e5a-468b-a6b0-fd3189872b1d",
   "metadata": {},
   "outputs": [],
   "source": [
    "#np.ones\n",
    "\n",
    "arr = np.ones((3,4,3),dtype=np.int8)\n",
    "\n",
    "# print(arr) \n",
    "# print(type(arr)) \n",
    "# print(arr.dtype) \n",
    "# print(arr.shape) \n",
    "# print(arr.ndim)\n",
    "# print(arr.size)\n",
    "\n",
    "\n",
    "arr = np.ones_like(arr3) ## arr3 shape same \n",
    "print(arr)\n",
    "print(arr.shape) "
   ]
  },
  {
   "cell_type": "code",
   "execution_count": null,
   "id": "9d314391-569f-4ab8-8a0b-2acd3a60639c",
   "metadata": {},
   "outputs": [],
   "source": [
    "#np.empty\n",
    "arr = np.empty((4,3),dtype=np.int8)\n",
    "\n",
    "# print(arr) \n",
    "# print(type(arr)) \n",
    "# print(arr.dtype) \n",
    "# print(arr.shape) \n",
    "# print(arr.ndim)\n",
    "# print(arr.size)\n",
    "\n",
    "arr = np.empty_like(arr3) ## arr3 shape same \n",
    "print(arr)\n",
    "print(arr.shape) "
   ]
  },
  {
   "cell_type": "code",
   "execution_count": 1,
   "id": "403d20ed-98d5-48fe-83b2-3e50ef9778bc",
   "metadata": {},
   "outputs": [],
   "source": [
    "#np.full \n",
    "\n",
    "arr = np.full((4,3),np.inf)\n",
    "\n",
    "# print(arr) \n",
    "# print(type(arr)) \n",
    "# print(arr.dtype) \n",
    "# print(arr.shape) \n",
    "# print(arr.ndim)\n",
    "# print(arr.size)\n",
    "\n",
    "\n",
    "arr = np.full_like(arr3,np.inf,dtype=np.float64) \n",
    "\n",
    "print(arr)\n",
    "print(arr.shape)\n",
    "print(arr.dtype)\n"
   ]
  },
  {
   "cell_type": "markdown",
   "id": "841c6936-5215-4260-abfd-f126400788bd",
   "metadata": {},
   "source": [
    "# array creation with random values "
   ]
  },
  {
   "cell_type": "code",
   "execution_count": null,
   "id": "5efd077c-ff32-4353-abbe-1c0802e32bda",
   "metadata": {},
   "outputs": [],
   "source": [
    "# np.random.rand(shape) \n",
    "\n",
    "arr = np.random.rand(2,3) # 0 ->1 \n",
    "\n",
    "print(arr) \n",
    "print(type(arr)) \n",
    "print(arr.dtype) \n",
    "print(arr.shape) \n",
    "print(arr.ndim)\n",
    "print(arr.size)"
   ]
  },
  {
   "cell_type": "code",
   "execution_count": null,
   "id": "c36ea554-475c-4e27-ba03-526d8ad0c804",
   "metadata": {},
   "outputs": [],
   "source": [
    "# np.random.randint(start,end, shape) \n",
    "\n",
    "arr = np.random.randint(1,10 , (2,3))  \n",
    "\n",
    "print(arr) \n",
    "print(type(arr)) \n",
    "print(arr.dtype) \n",
    "print(arr.shape) \n",
    "print(arr.ndim)\n",
    "print(arr.size)"
   ]
  },
  {
   "cell_type": "code",
   "execution_count": null,
   "id": "791ff7cc-2751-4f6a-9bf3-28825ff95208",
   "metadata": {},
   "outputs": [],
   "source": [
    "# np.random.uniform(start,end, shape) \n",
    "\n",
    "arr = np.random.uniform(50,100, (3,3,4))   \n",
    "\n",
    "print(arr) \n",
    "print(type(arr)) \n",
    "print(arr.dtype) \n",
    "print(arr.shape) \n",
    "print(arr.ndim)\n",
    "print(arr.size)"
   ]
  },
  {
   "cell_type": "markdown",
   "id": "2af083d5-34fd-4adf-9643-e7cc8427f21e",
   "metadata": {},
   "source": [
    "## array creation with range functions "
   ]
  },
  {
   "cell_type": "code",
   "execution_count": null,
   "id": "9c24e80f-10fb-43cb-83cd-7a92b9409fba",
   "metadata": {},
   "outputs": [],
   "source": [
    "# np.arange(first , end , step ) -> similar to range function \n",
    "\n",
    "arr = np.arange(1 , 10 ,1 )\n",
    "mat = arr.reshape(3,3) \n",
    "\n",
    "print(arr) \n",
    "print(mat) \n",
    "print(type(arr)) \n",
    "print(arr.dtype) \n",
    "print(arr.shape) \n",
    "print(arr.ndim)\n",
    "print(arr.size)"
   ]
  },
  {
   "cell_type": "code",
   "execution_count": null,
   "id": "547e0ca5-17da-42d2-a6fe-48bbad34fe91",
   "metadata": {},
   "outputs": [],
   "source": [
    "# np.linspace(start , end(included) , koita) \n",
    "\n",
    "arr = np.linspace(0, 4 ,6)\n",
    "\n",
    "\n",
    "print(arr) \n",
    "print(type(arr)) \n",
    "print(arr.dtype) \n",
    "print(arr.shape) \n",
    "print(arr.ndim)\n",
    "print(arr.size)"
   ]
  },
  {
   "cell_type": "code",
   "execution_count": null,
   "id": "86434531-a75f-42ab-87e8-dca2116bcfa5",
   "metadata": {},
   "outputs": [],
   "source": [
    "# np.logspace(start , end(included) , koita ) \n",
    "\n",
    "arr = np.logspace(0 , 4 ,6, base =2) \n",
    "\n",
    "print(arr)\n"
   ]
  },
  {
   "cell_type": "markdown",
   "id": "e47c67be-2d35-4bbf-8461-1dee0be720f2",
   "metadata": {},
   "source": [
    "## creating matrix for Linear algebra "
   ]
  },
  {
   "cell_type": "code",
   "execution_count": null,
   "id": "305c21e0-62da-4936-9e2b-3638568c3524",
   "metadata": {},
   "outputs": [],
   "source": [
    "diagonal_matrix = np.diag([1,2,3,4])\n",
    "\n",
    "print(diagonal_matrix)\n",
    "print(diagonal_matrix.shape)"
   ]
  },
  {
   "cell_type": "code",
   "execution_count": null,
   "id": "cdb17b1a-4de3-4c55-8839-d165ed6d3ff6",
   "metadata": {},
   "outputs": [],
   "source": [
    "# identity matrix \n",
    "\n",
    "identity_mat = np.eye(4)\n",
    "# print(identity_mat)\n",
    "# print(identity_mat.shape)\n",
    "\n",
    "\n",
    "# np.eye(row , column,k) \n",
    "\n",
    "mat = np.eye(3,4)\n",
    "print(mat)\n",
    "\n",
    "mat = np.eye(3,4,1)\n",
    "print(mat)"
   ]
  },
  {
   "cell_type": "markdown",
   "id": "68fcbef4-bc33-4f17-ba19-4b1a083ccdfc",
   "metadata": {},
   "source": [
    "## indexing and slicing"
   ]
  },
  {
   "cell_type": "code",
   "execution_count": null,
   "id": "dc3201fc-55c8-46ab-82da-4d5714e5ad91",
   "metadata": {},
   "outputs": [],
   "source": [
    "#indexing \n",
    "\n",
    "print(arr1)\n",
    "print(arr2)\n",
    "\n",
    "# arr1[2] = 100 \n",
    "\n",
    "# print(arr1)\n",
    "arr2[0][2]= 100\n",
    "\n",
    "print(arr2)\n"
   ]
  },
  {
   "cell_type": "code",
   "execution_count": null,
   "id": "a3ef4a32-afe5-4325-8e7f-d513dac68410",
   "metadata": {},
   "outputs": [],
   "source": [
    "#slicing \n",
    "#1d = arr[start:end:step] \n",
    "\n",
    "arr1_mod = arr1[1:4].copy()\n",
    "arr1[1] = 2\n",
    "\n",
    "\n",
    "arr1_mod[2] = 200\n",
    "print(arr1_mod)\n",
    "print(arr1)\n"
   ]
  },
  {
   "cell_type": "code",
   "execution_count": null,
   "id": "2bb1bcec-e324-40a5-ae78-c8219ae60b85",
   "metadata": {},
   "outputs": [],
   "source": [
    "#2d slicing \n",
    "# arr[ row_start : row_end : step , column_start : column_end : step ]\n",
    "\n",
    "# print(arr2) \n",
    "\n",
    "#getting a row \n",
    "\n",
    "row_0 = arr2[0:1 ,]\n",
    "\n",
    "row_1= arr2[1: , ]\n",
    "\n",
    "# print(row_0)\n",
    "# print(row_1)\n",
    "\n",
    "\n",
    "#getting a column \n",
    "\n",
    "col_0 = arr2[:: ,0:1]\n",
    "col_1 = arr2[::,1:2]\n",
    "\n",
    "print(col_0)\n",
    "print(col_1)\n",
    "\n",
    "#getting a portion \n",
    "\n",
    "\n",
    "portion = arr2[:: , 0:2] \n",
    "\n",
    "print(portion)"
   ]
  },
  {
   "cell_type": "markdown",
   "id": "d25ff7c6-7979-4a53-906e-a031ad896226",
   "metadata": {},
   "source": [
    "## Advanced Indexing "
   ]
  },
  {
   "cell_type": "code",
   "execution_count": null,
   "id": "4bfb5658-1ce3-42b7-951e-19a79712f476",
   "metadata": {},
   "outputs": [],
   "source": [
    "lst = np.array([ 10 , 20 ,30 ,40 ]) \n",
    "\n",
    "values = lst[[0,3,1]]\n",
    "\n",
    "print(values)"
   ]
  },
  {
   "cell_type": "code",
   "execution_count": null,
   "id": "25fd34ae-0e39-43b6-a812-2970f93eb3a1",
   "metadata": {},
   "outputs": [],
   "source": [
    "print(arr2)\n",
    "print(arr2[[0,1] , [1,2]])\n",
    "\n",
    "# boolean kono kichu diye\n",
    "print(arr2[arr>1])\n",
    "arr2[arr2>2] = 0 \n",
    "\n",
    "print(arr2)"
   ]
  },
  {
   "cell_type": "code",
   "execution_count": null,
   "id": "a511b7ef-6d63-442e-ab70-ff0b6f68806f",
   "metadata": {},
   "outputs": [],
   "source": [
    "print(arr2)"
   ]
  },
  {
   "cell_type": "code",
   "execution_count": null,
   "id": "653b5fdb-b4f2-4f2c-be02-4f2edf78e377",
   "metadata": {},
   "outputs": [],
   "source": [
    "arr  = np.array([[10,20,30] , [100,200,300] ] )\n",
    "\n",
    "# iteration \n",
    "print(arr3)\n",
    "for i in np.nditer(arr3):\n",
    "    print(i)"
   ]
  },
  {
   "cell_type": "code",
   "execution_count": null,
   "id": "8aeac231-f0c2-43af-9593-05404a200e5c",
   "metadata": {},
   "outputs": [],
   "source": [
    "arr = np.array([1,2,3,4,5])\n",
    "arr[1:4] = 0\n",
    "print(arr)"
   ]
  }
 ],
 "metadata": {
  "kernelspec": {
   "display_name": "Python 3",
   "language": "python",
   "name": "python3"
  },
  "language_info": {
   "codemirror_mode": {
    "name": "ipython",
    "version": 3
   },
   "file_extension": ".py",
   "mimetype": "text/x-python",
   "name": "python",
   "nbconvert_exporter": "python",
   "pygments_lexer": "ipython3",
   "version": "3.13.2"
  }
 },
 "nbformat": 4,
 "nbformat_minor": 5
}

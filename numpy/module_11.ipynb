{
 "cells": [
  {
   "cell_type": "code",
   "execution_count": 1,
   "id": "0c2541f3-782a-4571-bc88-2104ccd440d7",
   "metadata": {},
   "outputs": [
    {
     "ename": "ModuleNotFoundError",
     "evalue": "No module named 'numpy'",
     "output_type": "error",
     "traceback": [
      "\u001b[31m---------------------------------------------------------------------------\u001b[39m",
      "\u001b[31mModuleNotFoundError\u001b[39m                       Traceback (most recent call last)",
      "\u001b[36mCell\u001b[39m\u001b[36m \u001b[39m\u001b[32mIn[1]\u001b[39m\u001b[32m, line 1\u001b[39m\n\u001b[32m----> \u001b[39m\u001b[32m1\u001b[39m \u001b[38;5;28;01mimport\u001b[39;00m\u001b[38;5;250m \u001b[39m\u001b[34;01mnumpy\u001b[39;00m\u001b[38;5;250m \u001b[39m\u001b[38;5;28;01mas\u001b[39;00m\u001b[38;5;250m \u001b[39m\u001b[34;01mnp\u001b[39;00m \n\u001b[32m      3\u001b[39m arr = np.random.randint(\u001b[32m1\u001b[39m ,\u001b[32m100\u001b[39m , size =(\u001b[32m10\u001b[39m,\u001b[32m5\u001b[39m)) \u001b[38;5;66;03m# sample - 10 , feature - 5\u001b[39;00m\n",
      "\u001b[31mModuleNotFoundError\u001b[39m: No module named 'numpy'"
     ]
    }
   ],
   "source": [
    "import numpy as np \n",
    "\n",
    "arr = np.random.randint(1 ,100 , size =(10,5)) # sample - 10 , feature - 5"
   ]
  },
  {
   "cell_type": "code",
   "execution_count": 10,
   "id": "11d8451e-13dd-47c4-8ab2-06128e5239f1",
   "metadata": {},
   "outputs": [
    {
     "data": {
      "text/plain": [
       "(10, 5)"
      ]
     },
     "execution_count": 10,
     "metadata": {},
     "output_type": "execute_result"
    }
   ],
   "source": [
    "arr.shape"
   ]
  },
  {
   "cell_type": "code",
   "execution_count": 15,
   "id": "29fc2116-1ed6-4056-b955-c878f19dfb61",
   "metadata": {},
   "outputs": [
    {
     "data": {
      "text/plain": [
       "array([[63, 19, 88,  8,  9,  2, 61, 65, 45,  9],\n",
       "       [73, 35, 26,  4,  8, 78, 84, 89, 57, 92],\n",
       "       [32, 68, 28, 99, 41, 98, 97, 90, 19, 91],\n",
       "       [90, 44, 91,  2, 44, 11, 84, 37, 27,  9],\n",
       "       [ 9, 84, 54, 37, 55, 90, 46, 43, 86, 93]], dtype=int32)"
      ]
     },
     "execution_count": 15,
     "metadata": {},
     "output_type": "execute_result"
    }
   ],
   "source": [
    "b = arr.reshape(5,10)\n",
    "\n",
    "b.shape\n",
    "b.ndim \n",
    "b"
   ]
  },
  {
   "cell_type": "code",
   "execution_count": 18,
   "id": "3a777e07-5eec-4f91-8ad8-edb4c0d495a2",
   "metadata": {},
   "outputs": [
    {
     "name": "stdout",
     "output_type": "stream",
     "text": [
      "1\n",
      "[63 19 88  8  9  2 61 65 45  9 73 35 26  4  8 78 84 89 57 92 32 68 28 99\n",
      " 41 98 97 90 19 91 90 44 91  2 44 11 84 37 27  9  9 84 54 37 55 90 46 43\n",
      " 86 93]\n"
     ]
    }
   ],
   "source": [
    "flatten = b.flatten()\n",
    "print(flatten.ndim)\n",
    "flatten\n",
    "\n",
    "column_wise_flattening = np.ravel(b,order= 'C') \n",
    "\n",
    "print(column_wise_flattening) "
   ]
  },
  {
   "cell_type": "code",
   "execution_count": 21,
   "id": "f206f914-c74a-4d55-ac25-ee8d1c2c2547",
   "metadata": {},
   "outputs": [
    {
     "name": "stdout",
     "output_type": "stream",
     "text": [
      "[[5 4 2]\n",
      " [1 1 2]]\n",
      "[[26 27 26]\n",
      " [24 25 23]]\n"
     ]
    }
   ],
   "source": [
    "a = np.random.randint(1 ,10 , size =(2,3))\n",
    "b = np.random.randint(20 ,30 , size =(2,3))"
   ]
  },
  {
   "cell_type": "markdown",
   "id": "563509d0-57a9-42b4-a959-da6574276d67",
   "metadata": {},
   "source": [
    "### concatenate "
   ]
  },
  {
   "cell_type": "code",
   "execution_count": 23,
   "id": "ab539f2e-b532-4770-a4cd-2cd0bf7f3ddf",
   "metadata": {},
   "outputs": [
    {
     "name": "stdout",
     "output_type": "stream",
     "text": [
      "[[ 5  4  2]\n",
      " [ 1  1  2]\n",
      " [26 27 26]\n",
      " [24 25 23]]\n",
      "[[ 5  4  2 26 27 26]\n",
      " [ 1  1  2 24 25 23]]\n"
     ]
    }
   ],
   "source": [
    "con_row = np.concatenate((a,b),axis=0) # row wise \n",
    "\n",
    "print(con_row)\n",
    "\n",
    "con_col = np.concatenate((a,b), axis = 1) # column wise \n",
    "\n",
    "print(con_col)"
   ]
  },
  {
   "cell_type": "code",
   "execution_count": 25,
   "id": "4da438fd-f5af-41e2-8b70-527bb0029977",
   "metadata": {},
   "outputs": [
    {
     "ename": "ValueError",
     "evalue": "all the input array dimensions except for the concatenation axis must match exactly, but along dimension 0, the array at index 0 has size 2 and the array at index 1 has size 1",
     "output_type": "error",
     "traceback": [
      "\u001b[1;31m---------------------------------------------------------------------------\u001b[0m",
      "\u001b[1;31mValueError\u001b[0m                                Traceback (most recent call last)",
      "Cell \u001b[1;32mIn[25], line 6\u001b[0m\n\u001b[0;32m      3\u001b[0m x \u001b[38;5;241m=\u001b[39m np\u001b[38;5;241m.\u001b[39mrandom\u001b[38;5;241m.\u001b[39mrandint(\u001b[38;5;241m1\u001b[39m ,\u001b[38;5;241m10\u001b[39m , size \u001b[38;5;241m=\u001b[39m(\u001b[38;5;241m2\u001b[39m,\u001b[38;5;241m3\u001b[39m))\n\u001b[0;32m      4\u001b[0m y \u001b[38;5;241m=\u001b[39m np\u001b[38;5;241m.\u001b[39mrandom\u001b[38;5;241m.\u001b[39mrandint(\u001b[38;5;241m1\u001b[39m ,\u001b[38;5;241m10\u001b[39m , size \u001b[38;5;241m=\u001b[39m(\u001b[38;5;241m1\u001b[39m,\u001b[38;5;241m3\u001b[39m))\n\u001b[1;32m----> 6\u001b[0m r \u001b[38;5;241m=\u001b[39m np\u001b[38;5;241m.\u001b[39mconcatenate((x,y),axis \u001b[38;5;241m=\u001b[39m\u001b[38;5;241m1\u001b[39m )\n\u001b[0;32m      8\u001b[0m \u001b[38;5;28mprint\u001b[39m(r)\n",
      "\u001b[1;31mValueError\u001b[0m: all the input array dimensions except for the concatenation axis must match exactly, but along dimension 0, the array at index 0 has size 2 and the array at index 1 has size 1"
     ]
    }
   ],
   "source": [
    "# error \n",
    "\n",
    "# row wise concetanate korar shomoi column same thakbe \n",
    "# col wise concat korar shomoi row ta same thakte hobe \n",
    "\n",
    "x = np.random.randint(1 ,10 , size =(2,3))\n",
    "y = np.random.randint(1 ,10 , size =(1,3))\n",
    "\n",
    "r = np.concatenate((x,y),axis =0 )\n",
    "r = np.concatenate((x,y),axis =1 )\n",
    "print(r)\n"
   ]
  },
  {
   "cell_type": "code",
   "execution_count": 26,
   "id": "e822e75f-f5fd-4b05-80e6-9bc7f058fb4e",
   "metadata": {},
   "outputs": [
    {
     "name": "stdout",
     "output_type": "stream",
     "text": [
      "[[10 30]\n",
      " [20 40]\n",
      " [30 50]]\n"
     ]
    }
   ],
   "source": [
    "# transpose \n",
    "\n",
    "mat = np.array([[10,20,30],\n",
    "                [30,40,50]\n",
    "               ])\n",
    "\n",
    "\n",
    "transpose = mat.T\n",
    "\n",
    "print(transpose) "
   ]
  },
  {
   "cell_type": "code",
   "execution_count": 32,
   "id": "c5dee6a3-407e-4461-86c3-8be032f60520",
   "metadata": {},
   "outputs": [
    {
     "name": "stdout",
     "output_type": "stream",
     "text": [
      "[5 9 4 5 6 4 4 6 5 9]\n",
      "[array([5, 9, 4, 5], dtype=int32), array([6, 4, 4], dtype=int32), array([6, 5, 9], dtype=int32)]\n"
     ]
    },
    {
     "ename": "ValueError",
     "evalue": "array split does not result in an equal division",
     "output_type": "error",
     "traceback": [
      "\u001b[1;31m---------------------------------------------------------------------------\u001b[0m",
      "\u001b[1;31mValueError\u001b[0m                                Traceback (most recent call last)",
      "Cell \u001b[1;32mIn[32], line 9\u001b[0m\n\u001b[0;32m      5\u001b[0m splitted_array \u001b[38;5;241m=\u001b[39m np\u001b[38;5;241m.\u001b[39marray_split(a,\u001b[38;5;241m3\u001b[39m) \n\u001b[0;32m      7\u001b[0m \u001b[38;5;28mprint\u001b[39m(splitted_array)\n\u001b[1;32m----> 9\u001b[0m splitted_array \u001b[38;5;241m=\u001b[39m np\u001b[38;5;241m.\u001b[39msplit(a,\u001b[38;5;241m3\u001b[39m)\n",
      "File \u001b[1;32m~\\anaconda3\\Lib\\site-packages\\numpy\\lib\\_shape_base_impl.py:889\u001b[0m, in \u001b[0;36msplit\u001b[1;34m(ary, indices_or_sections, axis)\u001b[0m\n\u001b[0;32m    887\u001b[0m     N \u001b[38;5;241m=\u001b[39m ary\u001b[38;5;241m.\u001b[39mshape[axis]\n\u001b[0;32m    888\u001b[0m     \u001b[38;5;28;01mif\u001b[39;00m N \u001b[38;5;241m%\u001b[39m sections:\n\u001b[1;32m--> 889\u001b[0m         \u001b[38;5;28;01mraise\u001b[39;00m \u001b[38;5;167;01mValueError\u001b[39;00m(\n\u001b[0;32m    890\u001b[0m             \u001b[38;5;124m'\u001b[39m\u001b[38;5;124marray split does not result in an equal division\u001b[39m\u001b[38;5;124m'\u001b[39m) \u001b[38;5;28;01mfrom\u001b[39;00m\u001b[38;5;250m \u001b[39m\u001b[38;5;28;01mNone\u001b[39;00m\n\u001b[0;32m    891\u001b[0m \u001b[38;5;28;01mreturn\u001b[39;00m array_split(ary, indices_or_sections, axis)\n",
      "\u001b[1;31mValueError\u001b[0m: array split does not result in an equal division"
     ]
    }
   ],
   "source": [
    "# array split \n",
    "\n",
    "a = np.random.randint(1 ,10 , size =(10,))\n",
    "print(a)\n",
    "splitted_array = np.array_split(a,3) \n",
    "\n",
    "print(splitted_array)\n",
    "\n",
    "# split -> equal division \n",
    "splitted_array = np.split(a,3) \n"
   ]
  },
  {
   "cell_type": "markdown",
   "id": "70733c0b-5618-470f-a5cf-6ea8b7aff9c0",
   "metadata": {},
   "source": [
    "## arithmetic operator and mathematical functions "
   ]
  },
  {
   "cell_type": "code",
   "execution_count": 46,
   "id": "d783515d-cecd-437f-92d8-16073893629e",
   "metadata": {},
   "outputs": [
    {
     "name": "stdout",
     "output_type": "stream",
     "text": [
      "[ 12  11  34 105]\n",
      "[ 8  5 26 95]\n",
      "[ 20  24 120 500]\n",
      "[ 5.          2.66666667  7.5        20.        ]\n",
      "[0 2 2 0]\n"
     ]
    }
   ],
   "source": [
    "# faster for vectorization\n",
    "\n",
    "x = np.array([ 10 , 8 , 30 , 100 ])\n",
    "y = np.array([ 2 , 3 ,4  ,5 ]) \n",
    "\n",
    "add = np.add(x,y) \n",
    "print(add)\n",
    "\n",
    "sub = x-y \n",
    "print(sub)\n",
    "\n",
    "mul = x*y \n",
    "print(mul) \n",
    "\n",
    "div = x/y \n",
    "print(div) \n",
    "\n",
    "remainder = x % y\n",
    "\n",
    "print(remainder) \n"
   ]
  },
  {
   "cell_type": "code",
   "execution_count": 39,
   "id": "cb0e2de2-1217-48a2-ad86-68fd6416596a",
   "metadata": {},
   "outputs": [
    {
     "name": "stdout",
     "output_type": "stream",
     "text": [
      "[-0.54402111  0.91294525 -0.98803162  0.74511316]\n",
      "[-0.83907153  0.40808206  0.15425145 -0.66693806]\n",
      "[ 572.95779513 1145.91559026 1718.87338539 2291.83118052]\n"
     ]
    }
   ],
   "source": [
    "# mathematical function \n",
    "\n",
    "# trigonometry \n",
    "\n",
    "# sin , cos , tan takes values in radian \n",
    "\n",
    "sin_val = np.sin(x)\n",
    "print(sin_val) \n",
    "\n",
    "cos_val = np.cos(x)\n",
    "print(cos_val) \n",
    "\n",
    "deg_con = np.rad2deg(x)\n",
    "print(deg_con)\n",
    "\n",
    "# deg2rad \n"
   ]
  },
  {
   "cell_type": "code",
   "execution_count": 50,
   "id": "d6e2abe8-ec4e-4eed-8dbb-7e0878d7951a",
   "metadata": {},
   "outputs": [
    {
     "name": "stdout",
     "output_type": "stream",
     "text": [
      "[1.         0.90308999 1.20411998 2.        ]\n",
      "[3.32192809 3.         4.         6.64385619]\n",
      "[ 3.16227766  2.82842712  4.         10.        ]\n"
     ]
    }
   ],
   "source": [
    "#log \n",
    "\n",
    "x = np.array([ 10 , 8 , 16 , 100 ])\n",
    "base_10_log_val = np.log10(x)\n",
    "print(base_10_log_val)\n",
    "\n",
    "\n",
    "two_diye_bhag = np.log2(x) \n",
    "print(two_diye_bhag)\n",
    "\n",
    "sqrt= np.sqrt(x)\n",
    "print(sqrt)"
   ]
  },
  {
   "cell_type": "code",
   "execution_count": 52,
   "id": "3e77ba66-2b3d-4f92-8fb6-8a81ba78ead3",
   "metadata": {},
   "outputs": [
    {
     "name": "stdout",
     "output_type": "stream",
     "text": [
      "134\n",
      "[ 10  18  34 134]\n"
     ]
    }
   ],
   "source": [
    "# different \n",
    "s = np.sum(x)\n",
    "print(s)\n",
    "\n",
    "#prefix sum \n",
    "cumul =np.cumulative_sum(x)\n",
    "print(cumul)"
   ]
  },
  {
   "cell_type": "code",
   "execution_count": 60,
   "id": "8c6d5070-c961-4703-9cb6-810974f14b81",
   "metadata": {},
   "outputs": [
    {
     "ename": "ValueError",
     "evalue": "operands could not be broadcast together with shapes (2,3) (4,) ",
     "output_type": "error",
     "traceback": [
      "\u001b[1;31m---------------------------------------------------------------------------\u001b[0m",
      "\u001b[1;31mValueError\u001b[0m                                Traceback (most recent call last)",
      "Cell \u001b[1;32mIn[60], line 18\u001b[0m\n\u001b[0;32m     14\u001b[0m result \u001b[38;5;241m=\u001b[39m matrix \u001b[38;5;241m+\u001b[39m \u001b[38;5;241m2\u001b[39m \n\u001b[0;32m     16\u001b[0m vector \u001b[38;5;241m=\u001b[39m np\u001b[38;5;241m.\u001b[39marray([\u001b[38;5;241m1\u001b[39m,\u001b[38;5;241m2\u001b[39m,\u001b[38;5;241m3\u001b[39m,\u001b[38;5;241m4\u001b[39m]) \n\u001b[1;32m---> 18\u001b[0m result \u001b[38;5;241m=\u001b[39m matrix \u001b[38;5;241m+\u001b[39mvector\n\u001b[0;32m     19\u001b[0m \u001b[38;5;28mprint\u001b[39m(result)\n",
      "\u001b[1;31mValueError\u001b[0m: operands could not be broadcast together with shapes (2,3) (4,) "
     ]
    }
   ],
   "source": [
    "#broadcasting \n",
    "\n",
    "x = np.array([ 10 , 8 , 16 , 100 ])\n",
    "\n",
    "result = x + 2 \n",
    "\n",
    "#rulings = columns er size and vector er size same hote hobe \n",
    "\n",
    "matrix = np.array([[10,20,30],\n",
    "                [30,40,50]\n",
    "               ])\n",
    "\n",
    "\n",
    "result = matrix + 2 \n",
    "\n",
    "vector = np.array([1,2,3,4]) \n",
    "\n",
    "result = matrix +vector\n",
    "print(result)\n",
    "\n"
   ]
  },
  {
   "cell_type": "markdown",
   "id": "f1811b12-fbf2-48a2-ad04-9f3c83126eaf",
   "metadata": {},
   "source": [
    "## Logical Function"
   ]
  },
  {
   "cell_type": "code",
   "execution_count": 80,
   "id": "6a965efa-8d2f-4eb5-b7fb-ab20bae76e46",
   "metadata": {},
   "outputs": [
    {
     "name": "stdout",
     "output_type": "stream",
     "text": [
      "[ True  True False  True]\n",
      "[False False  True False]\n",
      "False\n",
      "True\n"
     ]
    }
   ],
   "source": [
    "# comparison - >,< , >= ,<= , == , !=\n",
    "\n",
    "x = np.array([ 10 , 8 , 16 , 100 ])\n",
    "y = np.array([ 2 , 3 ,16  ,5 ]) \n",
    "\n",
    "greater_than = x>y \n",
    "\n",
    "print(greater_than)\n",
    "\n",
    "equal = x==y \n",
    "\n",
    "print(equal) \n",
    "\n",
    "# all () -> shob true kina \n",
    "# any() -> jekono ekta true ase kina \n",
    "\n",
    "print(np.all(greater_than)) \n",
    "\n",
    "print(np.any(equal))\n"
   ]
  },
  {
   "cell_type": "markdown",
   "id": "73458995-dfca-45ca-bb3f-30587b069102",
   "metadata": {},
   "source": [
    "## Sorting "
   ]
  },
  {
   "cell_type": "code",
   "execution_count": 114,
   "id": "6365d829-bb63-4a20-9ce6-50cd0b22a532",
   "metadata": {},
   "outputs": [
    {
     "name": "stdout",
     "output_type": "stream",
     "text": [
      "[ 10   8  16 100]\n",
      "[  8  10  16 100]\n"
     ]
    }
   ],
   "source": [
    "#inplace \n",
    "x = np.array([ 10 , 8 , 16 , 100 ])\n",
    "\n",
    "z = x.copy()\n",
    "\n",
    "print(z) \n",
    "\n",
    "z.sort()\n",
    "\n",
    "print(z)\n"
   ]
  },
  {
   "cell_type": "code",
   "execution_count": 115,
   "id": "a9d33b99-1ce0-4085-aa7a-7543a1a2b6be",
   "metadata": {},
   "outputs": [
    {
     "name": "stdout",
     "output_type": "stream",
     "text": [
      "[ 10   8  16 100]\n",
      "[  8  10  16 100]\n",
      "[ 10   8  16 100]\n"
     ]
    }
   ],
   "source": [
    "# copy sorting\n",
    "print(x)\n",
    "sort_arr = np.sort(x) \n",
    "\n",
    "print(sort_arr)\n",
    "\n",
    "print(x)"
   ]
  },
  {
   "cell_type": "code",
   "execution_count": 117,
   "id": "95df7361-7fbc-4b9b-ab5e-5cd687588e3c",
   "metadata": {},
   "outputs": [
    {
     "name": "stdout",
     "output_type": "stream",
     "text": [
      "[[ 3  5 10]\n",
      " [ 4  8  9]]\n",
      "[[ 8  3  5]\n",
      " [10  4  9]]\n"
     ]
    }
   ],
   "source": [
    "# 2d array sorting \n",
    "mat = np.array([[10,3,5],[8,4,9]])\n",
    "\n",
    "# horizon axis = 1 \n",
    "\n",
    "hor_sort = np.sort(mat,axis=1)\n",
    "print(hor_sort)\n",
    "\n",
    "vert_sort = np.sort(mat,axis=0)\n",
    "print(vert_sort)\n"
   ]
  },
  {
   "cell_type": "markdown",
   "id": "bc643d63-76d2-4fb2-a61a-8956495f6104",
   "metadata": {},
   "source": [
    "## Searching"
   ]
  },
  {
   "cell_type": "code",
   "execution_count": 118,
   "id": "42fa7021-cc90-4622-88d4-d0e734cfb196",
   "metadata": {},
   "outputs": [
    {
     "name": "stdout",
     "output_type": "stream",
     "text": [
      "[ 10   8  16 100]\n"
     ]
    }
   ],
   "source": [
    "print(x)"
   ]
  },
  {
   "cell_type": "code",
   "execution_count": 121,
   "id": "5e1166e1-f6d4-4023-920b-cdfd1db24f03",
   "metadata": {},
   "outputs": [
    {
     "name": "stdout",
     "output_type": "stream",
     "text": [
      "(array([1]),)\n",
      "[ 10   0  16 100]\n"
     ]
    }
   ],
   "source": [
    "# np.where( condition , x , y ) if true x , otherwise replace with y \n",
    "\n",
    "index = np.where(x==8) # returns index\n",
    "print(index)\n",
    "\n",
    "arr = np.where(x>8,x,0) # returns array \n",
    "print(arr)"
   ]
  },
  {
   "cell_type": "code",
   "execution_count": 122,
   "id": "8dd2ff15-5ca9-4296-9e60-cd093931927b",
   "metadata": {},
   "outputs": [
    {
     "name": "stdout",
     "output_type": "stream",
     "text": [
      "[[10  3  5]\n",
      " [ 8  4  9]]\n"
     ]
    }
   ],
   "source": [
    "print(mat)"
   ]
  },
  {
   "cell_type": "code",
   "execution_count": 126,
   "id": "6d8bc466-3f23-4ba4-be97-eb5374223e33",
   "metadata": {},
   "outputs": [
    {
     "name": "stdout",
     "output_type": "stream",
     "text": [
      "(array([0, 1]), array([0, 2]))\n",
      "[[10  0  0]\n",
      " [ 0  0  9]]\n"
     ]
    }
   ],
   "source": [
    "index = np.where(mat>8) # returns index\n",
    "print(index)\n",
    "\n",
    "arr = np.where(mat>8,mat,0) # returns array \n",
    "print(arr)"
   ]
  },
  {
   "cell_type": "code",
   "execution_count": 132,
   "id": "2f719e3f-bc17-4cda-b923-32cdd4ed9b22",
   "metadata": {},
   "outputs": [
    {
     "name": "stdout",
     "output_type": "stream",
     "text": [
      "1\n",
      "2\n"
     ]
    }
   ],
   "source": [
    "x = np.array([ 10,100 , 8 , 16 , 100 ])\n",
    "\n",
    "maximum_value_indx = np.argmax(x) \n",
    "minimum_value_indx = np.argmin(x)\n",
    "\n",
    "print(maximum_value_indx)\n",
    "print(minimum_value_indx)"
   ]
  },
  {
   "cell_type": "markdown",
   "id": "dbd416b2-164c-4f84-85bc-a99bcc180a3d",
   "metadata": {},
   "source": [
    "## counting in ndarray\n"
   ]
  },
  {
   "cell_type": "code",
   "execution_count": 134,
   "id": "8aabd145-9fbf-4fbf-8ada-18499f41a9de",
   "metadata": {},
   "outputs": [
    {
     "name": "stdout",
     "output_type": "stream",
     "text": [
      "[63  9  1 21 25 41 99 58 97 19 30 77 35 68 18 16 21 46 49 60 49 34 82 76\n",
      " 85 78  2 89 53 47 44 60 31 84 71 66 91 17 64 93 15 24 37 83 41 70 94  5\n",
      " 56 17 15 30 69 97 42 20 31 52 94 29  2 55 35 10 63 69 72 95 39 63 34 23\n",
      " 71 63 96 26 86 79 69 86 51 37 37 71 67  5 76 51 72 61 46 90 58 64 43 71\n",
      " 86 67 21 29]\n"
     ]
    }
   ],
   "source": [
    "a = np.random.randint(1 ,100 , size =(100,))\n",
    "print(a)"
   ]
  },
  {
   "cell_type": "code",
   "execution_count": 146,
   "id": "aea94b12-5093-43a8-a33b-8526ef432a17",
   "metadata": {},
   "outputs": [
    {
     "name": "stdout",
     "output_type": "stream",
     "text": [
      "2\n"
     ]
    }
   ],
   "source": [
    "value_great_than_60 = np.count_nonzero(a==97)\n",
    "print(value_great_than_60)"
   ]
  },
  {
   "cell_type": "code",
   "execution_count": 149,
   "id": "012dbee4-6801-45da-94d3-5326f96cc3a4",
   "metadata": {},
   "outputs": [
    {
     "name": "stdout",
     "output_type": "stream",
     "text": [
      "[ 1  2  5  9 10 15 16 17 18 19 20 21 23 24 25 26 29 30 31 34 35 37 39 41\n",
      " 42 43 44 46 47 49 51 52 53 55 56 58 60 61 63 64 66 67 68 69 70 71 72 76\n",
      " 77 78 79 82 83 84 85 86 89 90 91 93 94 95 96 97 99]\n",
      "[1 2 2 1 1 2 1 2 1 1 1 3 1 1 1 1 2 2 2 2 2 3 1 2 1 1 1 2 1 2 2 1 1 1 1 2 2\n",
      " 1 4 2 1 2 1 3 1 4 2 2 1 1 1 1 1 1 1 3 1 1 1 1 2 1 1 2 1]\n"
     ]
    }
   ],
   "source": [
    "unique_value,count = np.unique(a,return_counts=True)\n",
    "\n",
    "print(unique_value) \n",
    "print(count)"
   ]
  },
  {
   "cell_type": "markdown",
   "id": "5dd72069-9903-4672-acd5-67f8d58fdc1c",
   "metadata": {},
   "source": [
    "## statistical function"
   ]
  },
  {
   "cell_type": "code",
   "execution_count": 185,
   "id": "01c6fc2c-3016-44f3-8665-c4a2acefe2e2",
   "metadata": {},
   "outputs": [
    {
     "name": "stdout",
     "output_type": "stream",
     "text": [
      "[[78. 85. 82.]\n",
      " [56. 67. 72.]\n",
      " [89. 92. 88.]\n",
      " [45. 52. 58.]\n",
      " [70. 75. 80.]\n",
      " [92. 90. 91.]\n",
      " [61. 60. 62.]\n",
      " [55. 57. 54.]\n",
      " [88. 89. 87.]\n",
      " [74. 70. 76.]\n",
      " [66. 69. 68.]\n",
      " [80. 82. 81.]\n",
      " [59. 64. 60.]\n",
      " [73. 78. 74.]\n",
      " [91. 93. 90.]\n",
      " [68. 71. 69.]\n",
      " [77. 79. 78.]\n",
      " [84. 86. 85.]\n",
      " [62. 63. 65.]\n",
      " [95. 97. 96.]]\n"
     ]
    }
   ],
   "source": [
    "#data load \n",
    "\n",
    "data = np.genfromtxt('student_scores.csv' ,delimiter=',',skip_header=1)\n",
    "\n",
    "print(data) \n"
   ]
  },
  {
   "cell_type": "code",
   "execution_count": 193,
   "id": "7e7b35fa-c0f3-4346-b5ff-147118b7346e",
   "metadata": {},
   "outputs": [
    {
     "name": "stdout",
     "output_type": "stream",
     "text": [
      "[[78. 56. 89. 45. 70. 92. 61. 55. 88. 74. 66. 80. 59. 73. 91. 68. 77. 84.\n",
      "  62. 95.]]\n",
      "95.0\n",
      "45.0\n",
      "73.15\n",
      "73.5\n",
      "13.788672887555204\n"
     ]
    }
   ],
   "source": [
    "# statistics  \n",
    "math_marks = data[::,:1]\n",
    "\n",
    "print(math_marks.T)\n",
    "\n",
    "max_math_marks = np.max(math_marks)\n",
    "print(max_math_marks)\n",
    "\n",
    "min_math_marks = np.min(math_marks)\n",
    "print(min_math_marks)\n",
    "\n",
    "average_math_marks = np.mean(math_marks)\n",
    "print(average_math_marks)\n",
    "\n",
    "median_math_marks = np.median(math_marks)\n",
    "print(median_math_marks) \n",
    "\n",
    "# standard deviation\n",
    "\n",
    "std_math_marks = np.std(math_marks)\n",
    "print(std_math_marks)\n",
    "\n",
    "\n"
   ]
  },
  {
   "cell_type": "code",
   "execution_count": 183,
   "id": "a4d42236-1074-488e-b9e3-4692bc9ebab5",
   "metadata": {},
   "outputs": [
    {
     "name": "stdout",
     "output_type": "stream",
     "text": [
      "Correlation Matrix:\n",
      " [[1.         0.99859154]\n",
      " [0.99859154 1.        ]]\n"
     ]
    }
   ],
   "source": [
    "\n",
    "study_hours = np.array([2, 4, 5, 7, 8])\n",
    "exam_scores = np.array([65, 75, 78, 88, 92])\n",
    "\n",
    "data = np.array([study_hours, exam_scores])\n",
    "\n",
    "correlation = np.corrcoef(data)\n",
    "\n",
    "print(\"Correlation Matrix:\\n\", correlation)\n"
   ]
  },
  {
   "cell_type": "markdown",
   "id": "17791fdc-8b73-43db-bec9-5cf84e126ca4",
   "metadata": {},
   "source": [
    "## linear algebra "
   ]
  },
  {
   "cell_type": "code",
   "execution_count": 197,
   "id": "69d03492-25b0-47fd-ba78-d89b96e43ce2",
   "metadata": {},
   "outputs": [
    {
     "name": "stdout",
     "output_type": "stream",
     "text": [
      "[[ 58  64]\n",
      " [139 154]]\n",
      "17\n"
     ]
    }
   ],
   "source": [
    "A = np.array([\n",
    "    [1, 2, 3],\n",
    "    [4, 5, 6]\n",
    "])\n",
    "\n",
    "B = np.array([\n",
    "    [7, 8],\n",
    "    [9, 10],\n",
    "    [11, 12]\n",
    "])\n",
    "\n",
    "# a er column and b er row same length hote hobe \n",
    "dot_product = np.dot(A,B)\n",
    "print(dot_product)\n",
    "\n",
    "\n",
    "# trace \n",
    "print(np.trace(B))\n",
    "\n",
    "\n",
    "# "
   ]
  },
  {
   "cell_type": "code",
   "execution_count": 201,
   "id": "3e34d76b-e930-43c4-8355-04367c74e7e1",
   "metadata": {},
   "outputs": [
    {
     "name": "stdout",
     "output_type": "stream",
     "text": [
      "6.66133814775094e-16\n",
      "2\n"
     ]
    }
   ],
   "source": [
    "sq_mat = np.array([[1,2,3],\n",
    "          [4,5,6],\n",
    "          [7,8,9]\n",
    "         ])\n",
    "\n",
    "det_of_sq = np.linalg.det(sq_mat)\n",
    "\n",
    "rank_sq = np.linalg.matrix_rank(sq_mat)\n",
    "\n",
    "print(det_of_sq)\n",
    "\n",
    "print(rank_sq)"
   ]
  },
  {
   "cell_type": "code",
   "execution_count": 203,
   "id": "80b48483-fae2-45b9-8b8c-759c2e4d4e18",
   "metadata": {},
   "outputs": [
    {
     "name": "stdout",
     "output_type": "stream",
     "text": [
      "[[19 22]\n",
      " [43 50]]\n"
     ]
    }
   ],
   "source": [
    "A = np.array([[1, 2], [3, 4]]) \n",
    "B = np.array([[5, 6], [7, 8]])\n",
    "\n",
    "print(np.dot(A,B))"
   ]
  },
  {
   "cell_type": "code",
   "execution_count": null,
   "id": "7cdb6b4f-2e6d-4af1-b31c-12cc216fa465",
   "metadata": {},
   "outputs": [],
   "source": []
  }
 ],
 "metadata": {
  "kernelspec": {
   "display_name": "Python 3",
   "language": "python",
   "name": "python3"
  },
  "language_info": {
   "codemirror_mode": {
    "name": "ipython",
    "version": 3
   },
   "file_extension": ".py",
   "mimetype": "text/x-python",
   "name": "python",
   "nbconvert_exporter": "python",
   "pygments_lexer": "ipython3",
   "version": "3.13.2"
  }
 },
 "nbformat": 4,
 "nbformat_minor": 5
}

{
  "nbformat": 4,
  "nbformat_minor": 0,
  "metadata": {
    "colab": {
      "provenance": [],
      "authorship_tag": "ABX9TyOfOlfY+WfzUW5eGdWar1hT"
    },
    "kernelspec": {
      "name": "python3",
      "display_name": "Python 3"
    },
    "language_info": {
      "name": "python"
    }
  },
  "cells": [
    {
      "cell_type": "code",
      "execution_count": 4,
      "metadata": {
        "colab": {
          "base_uri": "https://localhost:8080/"
        },
        "id": "5RGEFnt5QDm_",
        "outputId": "87cddad4-916c-48da-d4bb-48135374052f"
      },
      "outputs": [
        {
          "output_type": "stream",
          "name": "stdout",
          "text": [
            "[1 2 3 4 5]\n",
            "1\n",
            "(5,)\n"
          ]
        }
      ],
      "source": [
        "import numpy as np\n",
        "\n",
        "# 1D array\n",
        "\n",
        "a = np.array([1,2,3,4,5])\n",
        "print(a)\n",
        "print(a.ndim)\n",
        "print(a.shape)"
      ]
    },
    {
      "cell_type": "code",
      "source": [
        "arr2 = np.array([[1, 2, 3],\n",
        "                 [4, 5, 6]])\n",
        "print(arr2)\n",
        "print(arr2.ndim)\n",
        "print(arr2.shape)"
      ],
      "metadata": {
        "colab": {
          "base_uri": "https://localhost:8080/"
        },
        "id": "0gOH452sReqH",
        "outputId": "27f8c513-c38d-4634-98f0-d3b6eb4445e2"
      },
      "execution_count": 6,
      "outputs": [
        {
          "output_type": "stream",
          "name": "stdout",
          "text": [
            "[[1 2 3]\n",
            " [4 5 6]]\n",
            "2\n",
            "(2, 3)\n"
          ]
        }
      ]
    },
    {
      "cell_type": "code",
      "source": [
        "# 3D Array\n",
        "arr3 = np.array([[[1, 2], [3, 4]],\n",
        "                 [[5, 6], [7, 8]]])\n",
        "print(arr3)\n",
        "print(arr3.ndim)\n",
        "print(arr3.shape)"
      ],
      "metadata": {
        "colab": {
          "base_uri": "https://localhost:8080/"
        },
        "id": "G_MgivjwSqIA",
        "outputId": "3ad6e23f-50ae-4568-d858-cca9b4a37e0a"
      },
      "execution_count": 7,
      "outputs": [
        {
          "output_type": "stream",
          "name": "stdout",
          "text": [
            "[[[1 2]\n",
            "  [3 4]]\n",
            "\n",
            " [[5 6]\n",
            "  [7 8]]]\n",
            "3\n",
            "(2, 2, 2)\n"
          ]
        }
      ]
    },
    {
      "cell_type": "code",
      "source": [
        "# zero array\n",
        "arr_zero = np.zeros((3,3))\n",
        "print(arr_zero)"
      ],
      "metadata": {
        "colab": {
          "base_uri": "https://localhost:8080/"
        },
        "id": "b-SAWbfUT6lQ",
        "outputId": "fb56067c-e22e-4d38-f568-3c7ec8ec6357"
      },
      "execution_count": 8,
      "outputs": [
        {
          "output_type": "stream",
          "name": "stdout",
          "text": [
            "[[0. 0. 0.]\n",
            " [0. 0. 0.]\n",
            " [0. 0. 0.]]\n"
          ]
        }
      ]
    },
    {
      "cell_type": "code",
      "source": [
        "# array of ones with shape (2,5)\n",
        "ones_arr = np.ones((2,5))\n",
        "print(ones_arr)"
      ],
      "metadata": {
        "colab": {
          "base_uri": "https://localhost:8080/"
        },
        "id": "l-R8kLxpULzv",
        "outputId": "74b0e366-5ecd-40db-87e7-5cfe96aecca5"
      },
      "execution_count": 9,
      "outputs": [
        {
          "output_type": "stream",
          "name": "stdout",
          "text": [
            "[[1. 1. 1. 1. 1.]\n",
            " [1. 1. 1. 1. 1.]]\n"
          ]
        }
      ]
    },
    {
      "cell_type": "code",
      "source": [
        "# array filed with 7\n",
        "seven_arr = np.full((2,3), 7)\n",
        "print(seven_arr)"
      ],
      "metadata": {
        "colab": {
          "base_uri": "https://localhost:8080/"
        },
        "id": "rPrwbzonVPO4",
        "outputId": "b0bfe5a8-2084-4e33-b1a5-7c7c9f7fb67c"
      },
      "execution_count": 10,
      "outputs": [
        {
          "output_type": "stream",
          "name": "stdout",
          "text": [
            "[[7 7 7]\n",
            " [7 7 7]]\n"
          ]
        }
      ]
    },
    {
      "cell_type": "code",
      "source": [
        "# Create an array of even numbers between 10 and 50 using arange.\n",
        "even_arr = np.arange(10, 51, 2)\n",
        "print(even_arr)\n"
      ],
      "metadata": {
        "colab": {
          "base_uri": "https://localhost:8080/"
        },
        "id": "FHA7PQ71WEXY",
        "outputId": "af2e9c47-c0c3-40b8-df76-aece0f612c31"
      },
      "execution_count": 11,
      "outputs": [
        {
          "output_type": "stream",
          "name": "stdout",
          "text": [
            "[10 12 14 16 18 20 22 24 26 28 30 32 34 36 38 40 42 44 46 48 50]\n"
          ]
        }
      ]
    },
    {
      "cell_type": "code",
      "source": [
        "# Create a 4×4 matrix from 0–15\n",
        "\n",
        "matrix = np.arange(16).reshape(4,4)\n",
        "print(matrix)"
      ],
      "metadata": {
        "colab": {
          "base_uri": "https://localhost:8080/"
        },
        "id": "MvMMSVjZaBUe",
        "outputId": "5cad7127-bc10-4d29-e55d-a8db89a8b474"
      },
      "execution_count": 12,
      "outputs": [
        {
          "output_type": "stream",
          "name": "stdout",
          "text": [
            "[[ 0  1  2  3]\n",
            " [ 4  5  6  7]\n",
            " [ 8  9 10 11]\n",
            " [12 13 14 15]]\n"
          ]
        }
      ]
    },
    {
      "cell_type": "code",
      "source": [
        "# first row\n",
        "first_row = matrix[0]\n",
        "print(first_row)"
      ],
      "metadata": {
        "colab": {
          "base_uri": "https://localhost:8080/"
        },
        "id": "B5c18kmKc_eD",
        "outputId": "92a1befd-bbe6-4573-a011-753834b4a304"
      },
      "execution_count": 13,
      "outputs": [
        {
          "output_type": "stream",
          "name": "stdout",
          "text": [
            "[0 1 2 3]\n"
          ]
        }
      ]
    },
    {
      "cell_type": "code",
      "source": [
        "# the last column\n",
        "last_column = matrix[:, -1]\n",
        "print(last_column)"
      ],
      "metadata": {
        "colab": {
          "base_uri": "https://localhost:8080/"
        },
        "id": "3r3XkRjfdLyb",
        "outputId": "91fe59de-f103-41ea-97a7-53e0727df989"
      },
      "execution_count": 14,
      "outputs": [
        {
          "output_type": "stream",
          "name": "stdout",
          "text": [
            "[ 3  7 11 15]\n"
          ]
        }
      ]
    },
    {
      "cell_type": "code",
      "source": [
        "# Extract a 2x2 subarray from the center\n",
        "center_subarray = matrix[1:3,1:3]\n",
        "print(center_subarray)"
      ],
      "metadata": {
        "colab": {
          "base_uri": "https://localhost:8080/"
        },
        "id": "zGO8XY70dgpr",
        "outputId": "8a08b32b-a556-4e7f-9bbb-9de5b142198a"
      },
      "execution_count": 16,
      "outputs": [
        {
          "output_type": "stream",
          "name": "stdout",
          "text": [
            "[[ 5  6]\n",
            " [ 9 10]]\n"
          ]
        }
      ]
    },
    {
      "cell_type": "code",
      "source": [
        "arr = np.array([1,2,3])\n",
        "mat = np.array([[1,2,3],\n",
        "                [4,5,6],\n",
        "                [7,8,9]])\n",
        "result = mat + arr\n",
        "print(result)"
      ],
      "metadata": {
        "colab": {
          "base_uri": "https://localhost:8080/"
        },
        "id": "rIXpJJzWfEaj",
        "outputId": "717c32ce-e8d5-4259-c548-aec70c18b2df"
      },
      "execution_count": 17,
      "outputs": [
        {
          "output_type": "stream",
          "name": "stdout",
          "text": [
            "[[ 2  4  6]\n",
            " [ 5  7  9]\n",
            " [ 8 10 12]]\n"
          ]
        }
      ]
    },
    {
      "cell_type": "code",
      "source": [
        "A = np.array([1,2,3,4])\n",
        "B = np.array([5,6,7,8])\n",
        "\n",
        "result1 = (A + B)\n",
        "result2 = (A + B) / 2\n",
        "print(result1)\n",
        "print(result2)\n",
        "\n",
        "squared_sum = A**2 + B**2\n",
        "print(squared_sum)"
      ],
      "metadata": {
        "colab": {
          "base_uri": "https://localhost:8080/"
        },
        "id": "4ueUAjxogaI7",
        "outputId": "fc5a9c0a-7112-4023-ea7a-c1a26cc0ef33"
      },
      "execution_count": 22,
      "outputs": [
        {
          "output_type": "stream",
          "name": "stdout",
          "text": [
            "[ 6  8 10 12]\n",
            "[3. 4. 5. 6.]\n",
            "[26 40 58 80]\n"
          ]
        }
      ]
    }
  ]
}
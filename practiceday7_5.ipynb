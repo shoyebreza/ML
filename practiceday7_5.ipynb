{
  "cells": [
    {
      "cell_type": "markdown",
      "metadata": {
        "id": "vrqDJjxhjxiE"
      },
      "source": [
        "Problem 1: Common Friends (Set Operations)\n",
        "Problem:\n",
        " Given two sets of friends from two people, find the mutual friends, unique friends of each, and the total number of unique friends.\n",
        "Example Input:\n",
        "a_friends = {\"Rahim\", \"Karim\", \"Sakib\", \"Jamal\"}\n",
        "b_friends = {\"Sakib\", \"Jamal\", \"Rafiq\", \"Nadim\"}\n",
        "\n",
        "Expected Output:\n",
        "Mutual friends: {'Sakib', 'Jamal'}\n",
        "Unique to A: {'Rahim', 'Karim'}\n",
        "Unique to B: {'Rafiq', 'Nadim'}\n",
        "Total unique friends: 6\n"
      ]
    },
    {
      "cell_type": "code",
      "execution_count": null,
      "metadata": {
        "colab": {
          "base_uri": "https://localhost:8080/"
        },
        "id": "O634KL_FT8iU",
        "outputId": "8e45dafa-9f12-4be7-ee9d-b72051fe7715"
      },
      "outputs": [
        {
          "name": "stdout",
          "output_type": "stream",
          "text": [
            "Mutual friends: {'Jamal', 'Sakib'}\n",
            "Unique to A: {'Rahim', 'Karim'}\n",
            "Unique to B: {'Rafiq', 'Nadim'}\n",
            "Total unique friends: {'Jamal', 'Rafiq', 'Rahim', 'Sakib', 'Karim', 'Nadim'}\n",
            "Total unique friends: 6\n"
          ]
        }
      ],
      "source": [
        "a_friends = {\"Rahim\", \"Karim\", \"Sakib\", \"Jamal\"}\n",
        "b_friends = {\"Sakib\", \"Jamal\", \"Rafiq\", \"Nadim\"}\n",
        "\n",
        "print(f\"Mutual friends: {a_friends & b_friends}\")\n",
        "print(f\"Unique to A: {a_friends - b_friends}\")\n",
        "print(f\"Unique to B: {b_friends - a_friends}\")\n",
        "print(f\"Total unique friends: {b_friends | a_friends}\")\n",
        "print(f\"Total unique friends: {len(b_friends | a_friends)}\")"
      ]
    },
    {
      "cell_type": "markdown",
      "metadata": {
        "id": "R89_z3kMkMIz"
      },
      "source": [
        "Problem 2: Sort Students by Marks (Tuple + Dictionary)\n",
        "Problem:\n",
        " You are given a list of tuples — each containing a student’s name and mark.\n",
        " Sort them in descending order of marks and print the top 3 scorers.\n",
        "Example Input:\n",
        "students = [(\"Rafi\", 89), (\"Sumi\", 95), (\"Hasan\", 90), (\"Nila\", 75), (\"Anik\", 98)]\n",
        "\n",
        "Expected Output:\n",
        "Top 3 students:\n",
        "Anik - 98\n",
        "Sumi - 95\n",
        "Hasan - 90\n",
        "\n"
      ]
    },
    {
      "cell_type": "code",
      "execution_count": null,
      "metadata": {
        "colab": {
          "base_uri": "https://localhost:8080/"
        },
        "id": "GkX0hP7Tc30N",
        "outputId": "ac4d02d3-71e1-41c3-cc8b-4b6e655a0c34"
      },
      "outputs": [
        {
          "name": "stdout",
          "output_type": "stream",
          "text": [
            "[('Anik', 98), ('Sumi', 95), ('Hasan', 90), ('Rafi', 89), ('Nila', 75)]\n",
            "[('Anik', 98), ('Sumi', 95), ('Hasan', 90)]\n",
            "Top 3 students: \n",
            "Anik - 98\n",
            "Sumi - 95\n",
            "Hasan - 90\n"
          ]
        }
      ],
      "source": [
        "students = [(\"Rafi\", 89), (\"Sumi\", 95), (\"Hasan\", 90), (\"Nila\", 75), (\"Anik\", 98)]\n",
        "sort_std = sorted(students, key=lambda x: x[1], reverse=True)\n",
        "print(sort_std)\n",
        "\n",
        "top_3 = sort_std[:3]\n",
        "print(top_3)\n",
        "print(\"Top 3 students: \")\n",
        "\n",
        "for name,mark in top_3:\n",
        "    print(f\"{name} - {mark}\")"
      ]
    },
    {
      "cell_type": "markdown",
      "metadata": {
        "id": "3YFcX2QskT-r"
      },
      "source": [
        "Problem 3: Word Length Filter (Lambda + Filter)\n",
        "Problem:\n",
        " Given a list of words, use filter() and lambda to return only words whose length is greater than 4.\n",
        " Example Input:\n",
        "words = [\"sun\", \"planet\", \"moon\", \"star\", \"universe\"]\n",
        "\n",
        "Expected Output:\n",
        "['planet', 'universe']\n",
        "\n"
      ]
    },
    {
      "cell_type": "code",
      "execution_count": null,
      "metadata": {
        "colab": {
          "base_uri": "https://localhost:8080/"
        },
        "id": "0yGAX7TDlGbr",
        "outputId": "5b534d61-6daf-49de-80da-87ad715e81b7"
      },
      "outputs": [
        {
          "name": "stdout",
          "output_type": "stream",
          "text": [
            "['planet', 'universe']\n"
          ]
        }
      ],
      "source": [
        "words = [\"sun\", \"planet\", \"moon\", \"star\", \"universe\"]\n",
        "\n",
        "filtered_words = list(filter(lambda word: len(word) > 4, words))\n",
        "print(filtered_words)"
      ]
    },
    {
      "cell_type": "markdown",
      "metadata": {
        "id": "WTozEqxVlb_L"
      },
      "source": [
        "Problem 4: Square of Even Numbers (Map + Filter + Lambda)\n",
        "Problem:\n",
        " Write a one-line Python expression using map(), filter(), and lambda that takes a list of integers and returns the squares of even numbers only.\n",
        "Example Input:\n",
        "nums = [1, 2, 3, 4, 5, 6]\n",
        "\n",
        "Expected Output:\n",
        "[4, 16, 36]\n"
      ]
    },
    {
      "cell_type": "code",
      "execution_count": null,
      "metadata": {
        "colab": {
          "base_uri": "https://localhost:8080/"
        },
        "id": "9ysmpigBldsL",
        "outputId": "dc7ef8ea-9893-45e9-b9c2-06c34347e9ef"
      },
      "outputs": [
        {
          "name": "stdout",
          "output_type": "stream",
          "text": [
            "[4, 16, 36]\n"
          ]
        }
      ],
      "source": [
        "nums = [1, 2, 3, 4, 5, 6]\n",
        "\n",
        "squared_evens = list(map(lambda x: x**2, filter(lambda x: x % 2 == 0, nums)))\n",
        "print(squared_evens)"
      ]
    },
    {
      "cell_type": "markdown",
      "metadata": {
        "id": "CSwhkHFlmCtb"
      },
      "source": [
        "Problem 5: Write and Read a File\n",
        "Problem:\n",
        " Write a Python program to:\n",
        "Create a text file named data.txt\n",
        "\n",
        "\n",
        "Write “Learning Python is fun!” into it.\n",
        "\n",
        "\n",
        "Read the file and print its content.\n",
        "\n",
        "\n"
      ]
    },
    {
      "cell_type": "code",
      "execution_count": null,
      "metadata": {
        "colab": {
          "base_uri": "https://localhost:8080/"
        },
        "id": "DrWYu1D0mMiS",
        "outputId": "b0830ea0-bfd0-4656-9be7-b067cf0f55a9"
      },
      "outputs": [
        {
          "name": "stdout",
          "output_type": "stream",
          "text": [
            "Learning Python is fun!\n"
          ]
        }
      ],
      "source": [
        "# Write to the file\n",
        "with open(\"data.txt\", \"w\") as file:\n",
        "    file.write(\"Learning Python is fun!\")\n",
        "\n",
        "# Read from the file\n",
        "with open(\"data.txt\", \"r\") as file:\n",
        "    content = file.read()\n",
        "\n",
        "print(content)"
      ]
    },
    {
      "cell_type": "markdown",
      "metadata": {
        "id": "2n0mZDdPmtXi"
      },
      "source": [
        " Problem 6: Count Lines in a File\n",
        "Problem:\n",
        " Write a Python program to count how many lines are in a text file named story.txt.\n",
        " If the file does not exist, handle the exception and print an error message, otherwise read the text file ( test it with both conditions ). Print a message finally.\n"
      ]
    },
    {
      "cell_type": "code",
      "execution_count": null,
      "metadata": {
        "colab": {
          "base_uri": "https://localhost:8080/"
        },
        "id": "3dFXfyyYnWHK",
        "outputId": "0628aa21-e0dd-4bae-e4ef-2c5cc4882e2b"
      },
      "outputs": [
        {
          "name": "stdout",
          "output_type": "stream",
          "text": [
            "The file 'story.txt' has 4 lines.\n",
            "Finished processing the file.\n"
          ]
        }
      ],
      "source": [
        "import os\n",
        "\n",
        "file_name = \"story.txt\"\n",
        "\n",
        "try:\n",
        "    with open(file_name, \"r\") as file:\n",
        "        line_count = sum(1 for line in file)\n",
        "        print(f\"The file '{file_name}' has {line_count} lines.\")\n",
        "except FileNotFoundError:\n",
        "    print(f\"Error: The file '{file_name}' was not found.\")\n",
        "finally:\n",
        "    print(\"Finished processing the file.\")"
      ]
    }
  ],
  "metadata": {
    "colab": {
      "authorship_tag": "ABX9TyOtPzLqJWXOSzOtPcsD0Cbu",
      "include_colab_link": true,
      "provenance": []
    },
    "kernelspec": {
      "display_name": "Python 3",
      "name": "python3"
    },
    "language_info": {
      "name": "python"
    }
  },
  "nbformat": 4,
  "nbformat_minor": 0
}

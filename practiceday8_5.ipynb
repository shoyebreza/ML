{
  "nbformat": 4,
  "nbformat_minor": 0,
  "metadata": {
    "colab": {
      "provenance": [],
      "authorship_tag": "ABX9TyNuUzBMq+dEk3Gq0qtWDUCM"
    },
    "kernelspec": {
      "name": "python3",
      "display_name": "Python 3"
    },
    "language_info": {
      "name": "python"
    }
  },
  "cells": [
    {
      "cell_type": "code",
      "execution_count": 8,
      "metadata": {
        "colab": {
          "base_uri": "https://localhost:8080/"
        },
        "id": "ZdZOK1C2T7Rw",
        "outputId": "636082e7-6696-4673-8906-2d3824991f03"
      },
      "outputs": [
        {
          "output_type": "stream",
          "name": "stdout",
          "text": [
            "3\n",
            "Car Honda 120\n",
            "Car Added: Honda\n",
            "Bike Yamaha 90\n",
            "Bike Added: Yamaha\n",
            "Car Toyota 150\n",
            "Car Added: Toyota\n",
            "\n",
            "--- Vehicle Details ---\n",
            "Type: Car, Name: Honda, Speed: 120 km/h, Predicted: High-speed Vehicle\n",
            "Type: Bike, Name: Yamaha, Speed: 90 km/h, Predicted: Normal Vehicle\n",
            "Type: Car, Name: Toyota, Speed: 150 km/h, Predicted: High-speed Vehicle\n"
          ]
        }
      ],
      "source": [
        "class Vehicle:\n",
        "    def __init__(self, vehicle_type, name, speed):\n",
        "        self._vehicle_type = vehicle_type  # Protected attribute\n",
        "        self.__name = name  # Private attribute\n",
        "        self.__speed = speed  # Private attribute\n",
        "\n",
        "    def classify(self):\n",
        "        if self.__speed > 100:\n",
        "            return \"High-speed Vehicle\"\n",
        "        else:\n",
        "            return \"Normal Vehicle\"\n",
        "\n",
        "    def show_info(self):\n",
        "        # This method will be overridden by subclasses\n",
        "        pass\n",
        "\n",
        "    def get_name(self):\n",
        "        return self.__name\n",
        "\n",
        "    def get_speed(self):\n",
        "        return self.__speed\n",
        "\n",
        "    def get_type(self):\n",
        "        return self._vehicle_type\n",
        "\n",
        "class Car(Vehicle):\n",
        "    def show_info(self):\n",
        "        print(f\"Type: {self.get_type()}, Name: {self.get_name()}, Speed: {self.get_speed()} km/h, Predicted: {self.classify()}\")\n",
        "\n",
        "class Bike(Vehicle):\n",
        "    def show_info(self):\n",
        "        print(f\"Type: {self.get_type()}, Name: {self.get_name()}, Speed: {self.get_speed()} km/h, Predicted: {self.classify()}\")\n",
        "\n",
        "# Read input and create vehicle objects\n",
        "num_vehicles = int(input())\n",
        "vehicles = []\n",
        "\n",
        "for _ in range(num_vehicles):\n",
        "    vehicle_data = input().split()\n",
        "    vehicle_type = vehicle_data[0]\n",
        "    name = vehicle_data[1]\n",
        "    speed = int(vehicle_data[2])\n",
        "\n",
        "    if vehicle_type == \"Car\":\n",
        "        car = Car(vehicle_type, name, speed)\n",
        "        vehicles.append(car)\n",
        "        print(f\"Car Added: {name}\")\n",
        "    elif vehicle_type == \"Bike\":\n",
        "        bike = Bike(vehicle_type, name, speed)\n",
        "        vehicles.append(bike)\n",
        "        print(f\"Bike Added: {name}\")\n",
        "\n",
        "print(\"\\n--- Vehicle Details ---\")\n",
        "for vehicle in vehicles:\n",
        "    vehicle.show_info()"
      ]
    }
  ]
}
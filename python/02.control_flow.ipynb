{
 "cells": [
  {
   "cell_type": "markdown",
   "id": "a61f5b32",
   "metadata": {},
   "source": [
    "### Conditional statements in Python"
   ]
  },
  {
   "cell_type": "code",
   "execution_count": null,
   "id": "1b05bfd5",
   "metadata": {},
   "outputs": [
    {
     "name": "stdout",
     "output_type": "stream",
     "text": [
      "ghurte jabo\n"
     ]
    }
   ],
   "source": [
    "taka = 1000\n",
    "raining = False \n",
    "\n",
    "## 500 er beshi and jodi brishti na hoi\n",
    "\n",
    "if (taka > 500) and (raining == False) or ():\n",
    "    print(\"ghurte jabo\")\n",
    "else:\n",
    "    print(\"Taka ta save korbo\")\n",
    "\n",
    "\n",
    "\n",
    "\n"
   ]
  },
  {
   "cell_type": "markdown",
   "id": "acc18365",
   "metadata": {},
   "source": [
    "### Loop in Python"
   ]
  },
  {
   "cell_type": "code",
   "execution_count": 2,
   "id": "a1b955cc",
   "metadata": {},
   "outputs": [
    {
     "name": "stdout",
     "output_type": "stream",
     "text": [
      "1 1\n",
      "1 2\n",
      "1 3\n",
      "1 4\n",
      "2 1\n",
      "2 2\n",
      "2 3\n",
      "2 4\n",
      "3 1\n",
      "3 2\n",
      "3 3\n",
      "3 4\n",
      "4 1\n",
      "4 2\n",
      "4 3\n",
      "4 4\n",
      "5 1\n",
      "5 2\n",
      "5 3\n",
      "5 4\n"
     ]
    }
   ],
   "source": [
    "for i in range(1, 6):\n",
    "    for j in range(1,5):\n",
    "        print(i,j)\n"
   ]
  },
  {
   "cell_type": "code",
   "execution_count": 2,
   "id": "a1d2e8f5",
   "metadata": {},
   "outputs": [
    {
     "name": "stdout",
     "output_type": "stream",
     "text": [
      "1 hello world\n",
      "2 hello world\n",
      "3 hello world\n",
      "4 hello world\n",
      "5 hello world\n",
      "6 hello world\n",
      "7 hello world\n",
      "8 hello world\n",
      "9 hello world\n",
      "10\n"
     ]
    }
   ],
   "source": [
    "count = 1 \n",
    "\n",
    "while count < 10 : \n",
    "    print(count,\"hello world\")\n",
    "    count= count +1 \n",
    "\n",
    "print(count)"
   ]
  },
  {
   "cell_type": "code",
   "execution_count": 41,
   "id": "5c8aefd0",
   "metadata": {},
   "outputs": [
    {
     "name": "stdout",
     "output_type": "stream",
     "text": [
      "1 is processing\n",
      "1 is added to the sum\n",
      "2 is processing\n",
      "3 is processing\n",
      "3 is added to the sum\n",
      "4 is processing\n",
      "5 is processing\n",
      "5 is added to the sum\n",
      "6 is processing\n",
      "7 is processing\n",
      "7 is added to the sum\n",
      "8 is processing\n",
      "9 is processing\n",
      "9 is added to the sum\n",
      "10 is processing\n"
     ]
    }
   ],
   "source": [
    "sum = 0 \n",
    "\n",
    "for i in range(1,11):\n",
    "\n",
    "    print(i , \"is processing\")\n",
    "\n",
    "    if i % 2 ==0 : ## even \n",
    "        continue \n",
    "          \n",
    "    sum+= i \n",
    "    print(i ,\"is added to the sum\")\n",
    "\n"
   ]
  },
  {
   "cell_type": "markdown",
   "id": "a4f305a1",
   "metadata": {},
   "source": [
    "accuracy = 30 \n",
    "\n"
   ]
  },
  {
   "cell_type": "code",
   "execution_count": 5,
   "id": "d1668c1d",
   "metadata": {},
   "outputs": [
    {
     "ename": "KeyboardInterrupt",
     "evalue": "",
     "output_type": "error",
     "traceback": [
      "\u001b[31m---------------------------------------------------------------------------\u001b[39m",
      "\u001b[31mKeyboardInterrupt\u001b[39m                         Traceback (most recent call last)",
      "\u001b[36mCell\u001b[39m\u001b[36m \u001b[39m\u001b[32mIn[5]\u001b[39m\u001b[32m, line 11\u001b[39m\n\u001b[32m      3\u001b[39m \u001b[38;5;66;03m# for i in range(20):\u001b[39;00m\n\u001b[32m      4\u001b[39m \u001b[38;5;66;03m#     accuracy+=1 \u001b[39;00m\n\u001b[32m      5\u001b[39m \u001b[38;5;66;03m#     print(accuracy)\u001b[39;00m\n\u001b[32m      6\u001b[39m \u001b[38;5;66;03m#     if accuracy == 100 :\u001b[39;00m\n\u001b[32m      7\u001b[39m \u001b[38;5;66;03m#         break \u001b[39;00m\n\u001b[32m      9\u001b[39m changed_or_not = \u001b[38;5;28;01mTrue\u001b[39;00m\n\u001b[32m---> \u001b[39m\u001b[32m11\u001b[39m \u001b[38;5;28;01mwhile\u001b[39;00m \u001b[38;5;28;01mTrue\u001b[39;00m: \n\u001b[32m     13\u001b[39m     \u001b[38;5;28;01mif\u001b[39;00m changed_or_not == \u001b[38;5;28;01mFalse\u001b[39;00m \u001b[38;5;129;01mand\u001b[39;00m accuracy == \u001b[32m100\u001b[39m:\n\u001b[32m     14\u001b[39m         \u001b[38;5;28;01mbreak\u001b[39;00m \n",
      "\u001b[31mKeyboardInterrupt\u001b[39m: "
     ]
    }
   ],
   "source": [
    "\n",
    "accuracy = 95 \n",
    "\n",
    "# for i in range(20):\n",
    "#     accuracy+=1 \n",
    "#     print(accuracy)\n",
    "#     if accuracy == 100 :\n",
    "#         break \n",
    "\n",
    "changed_or_not = True\n",
    "\n",
    "while True: \n",
    "\n",
    "    if changed_or_not == False and accuracy == 100:\n",
    "        break \n",
    "    \n",
    "    if(prev>accuracy):\n",
    "        changed_or_not = False\n",
    "\n",
    "\n"
   ]
  },
  {
   "cell_type": "markdown",
   "id": "c6ecc4b7",
   "metadata": {},
   "source": [
    "### Max and Min problem"
   ]
  },
  {
   "cell_type": "code",
   "execution_count": 64,
   "id": "a1b091a0",
   "metadata": {},
   "outputs": [
    {
     "name": "stdout",
     "output_type": "stream",
     "text": [
      "-1 20\n"
     ]
    }
   ],
   "source": [
    "inp = input()\n",
    "\n",
    "numbers = inp.split()\n",
    "\n",
    "x = int(numbers[0])\n",
    "y = int(numbers[1])\n",
    "z = int(numbers[2])\n",
    "\n",
    "min = x \n",
    "max = x \n",
    "\n",
    "## min\n",
    "if y < min :\n",
    "    min = y \n",
    "if z < min :\n",
    "    min = z \n",
    "\n",
    "\n",
    "## max \n",
    "\n",
    "if y > max :\n",
    "    max = y \n",
    "\n",
    "if z > max :\n",
    "    max = z \n",
    "\n",
    "\n",
    "print(min , max)\n",
    "\n",
    "\n"
   ]
  },
  {
   "cell_type": "code",
   "execution_count": null,
   "id": "d20c0bcc",
   "metadata": {},
   "outputs": [],
   "source": []
  },
  {
   "cell_type": "markdown",
   "id": "17c6e30b",
   "metadata": {},
   "source": [
    "### C. Even, Odd, Positive and Negative"
   ]
  },
  {
   "cell_type": "code",
   "execution_count": null,
   "id": "4a9e2386",
   "metadata": {},
   "outputs": [
    {
     "name": "stdout",
     "output_type": "stream",
     "text": [
      "Even: 3\n",
      "Odd: 2\n",
      "Positive: 1\n",
      "Negative 3\n"
     ]
    }
   ],
   "source": [
    "n = int(input()) \n",
    "\n",
    "inp = input()\n",
    "\n",
    "numbers= inp.split()\n",
    "\n",
    "positive =0 ; negative =0 ; even =0 ; odd =0 \n",
    "\n",
    "\n",
    "for i in range(n):\n",
    "    x = int(numbers[i])\n",
    "    # positive or negative\n",
    "    if x > 0 :\n",
    "        positive+=1 \n",
    "    elif x < 0 :\n",
    "        negative+=1 \n",
    "    \n",
    "    # odd or even\n",
    "    if x % 2 !=0 :\n",
    "        odd+=1 \n",
    "    else:\n",
    "        even+=1 \n",
    "\n",
    "\n",
    "print(\"Even:\",even)\n",
    "print(\"Odd:\",odd)\n",
    "print(\"Positive:\",positive)\n",
    "print(\"Negative:\",negative)\n"
   ]
  },
  {
   "cell_type": "markdown",
   "id": "7aaecfd3",
   "metadata": {},
   "source": [
    "### Q. Digits"
   ]
  },
  {
   "cell_type": "code",
   "execution_count": 77,
   "id": "179a330c",
   "metadata": {},
   "outputs": [
    {
     "name": "stdout",
     "output_type": "stream",
     "text": [
      "0 0 2 1 \n",
      "0\n",
      "1 2 3 \n"
     ]
    }
   ],
   "source": [
    "t = int(input())\n",
    "\n",
    "for i in range(t):\n",
    "    number = int(input())\n",
    "    if number ==0 :\n",
    "        print(0)\n",
    "        continue\n",
    "    while number > 0 :\n",
    "        print(number%10, end=\" \")\n",
    "        number//=10\n",
    "    print()\n"
   ]
  },
  {
   "cell_type": "code",
   "execution_count": 6,
   "id": "8921d188",
   "metadata": {},
   "outputs": [
    {
     "name": "stdout",
     "output_type": "stream",
     "text": [
      "A\n"
     ]
    }
   ],
   "source": [
    "x= 5\n",
    "if x >3:\n",
    "    print(\"A\")\n",
    "elif x>1:\n",
    "    print(\"B\")\n",
    "else:\n",
    "    print(\"C\")"
   ]
  },
  {
   "cell_type": "code",
   "execution_count": 7,
   "id": "4bf64cea",
   "metadata": {},
   "outputs": [
    {
     "name": "stdout",
     "output_type": "stream",
     "text": [
      "0 0\n",
      "1 0\n"
     ]
    }
   ],
   "source": [
    "for i in range(2):\n",
    "    for j in range (3):\n",
    "        if j ==1:\n",
    "            break\n",
    "        print(i,j)"
   ]
  },
  {
   "cell_type": "code",
   "execution_count": 8,
   "id": "56dbc1c9",
   "metadata": {},
   "outputs": [
    {
     "name": "stdout",
     "output_type": "stream",
     "text": [
      "0\n"
     ]
    }
   ],
   "source": [
    "for i in range (3):\n",
    "    if i ==1:\n",
    "        break\n",
    "    print(i)"
   ]
  },
  {
   "cell_type": "code",
   "execution_count": 9,
   "id": "35448f42",
   "metadata": {},
   "outputs": [
    {
     "name": "stdout",
     "output_type": "stream",
     "text": [
      "01"
     ]
    }
   ],
   "source": [
    "for i in range (5):\n",
    "    if i == 2:\n",
    "        break\n",
    "    print(i, end=\"\")"
   ]
  },
  {
   "cell_type": "code",
   "execution_count": 11,
   "id": "efafd110",
   "metadata": {},
   "outputs": [
    {
     "name": "stdout",
     "output_type": "stream",
     "text": [
      "2\n"
     ]
    }
   ],
   "source": [
    "count = 0\n",
    "for n in [1,2,3,4,5]:\n",
    "    if n % 2 !=0:\n",
    "        continue\n",
    "    count +=1\n",
    "print(count)"
   ]
  },
  {
   "cell_type": "code",
   "execution_count": 12,
   "id": "c7f3ff08",
   "metadata": {},
   "outputs": [
    {
     "name": "stdout",
     "output_type": "stream",
     "text": [
      "2\n"
     ]
    }
   ],
   "source": [
    "s = 0\n",
    "for i in range(1,5):\n",
    "    if i % 2 == 0:\n",
    "        s +=i\n",
    "    else:\n",
    "        s -=i\n",
    "print(s)"
   ]
  },
  {
   "cell_type": "code",
   "execution_count": 13,
   "id": "3883b69f",
   "metadata": {},
   "outputs": [
    {
     "name": "stdout",
     "output_type": "stream",
     "text": [
      "5"
     ]
    }
   ],
   "source": [
    "for i in range(5,0,-1):\n",
    "    if i % 2 == 0:\n",
    "        continue\n",
    "    if i ==3:\n",
    "        break\n",
    "    print(i,end=\"\")"
   ]
  }
 ],
 "metadata": {
  "kernelspec": {
   "display_name": "Python 3",
   "language": "python",
   "name": "python3"
  },
  "language_info": {
   "codemirror_mode": {
    "name": "ipython",
    "version": 3
   },
   "file_extension": ".py",
   "mimetype": "text/x-python",
   "name": "python",
   "nbconvert_exporter": "python",
   "pygments_lexer": "ipython3",
   "version": "3.13.2"
  }
 },
 "nbformat": 4,
 "nbformat_minor": 5
}

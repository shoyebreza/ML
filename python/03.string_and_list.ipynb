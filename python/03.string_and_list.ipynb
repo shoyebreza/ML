{
 "cells": [
  {
   "cell_type": "code",
   "execution_count": 24,
   "id": "dfff0cbe-1e70-434d-90ce-aba30e298df0",
   "metadata": {},
   "outputs": [
    {
     "name": "stdout",
     "output_type": "stream",
     "text": [
      "30\n"
     ]
    }
   ],
   "source": [
    "## declaration \n",
    "numbers = [100,20,30,40,50,100,100] # int \n",
    "float_numbers = [10.20,3.15,2.4,2.7,3.5] # float \n",
    "fruits = ['apple', 'orange' , 'lichi'] # string \n",
    "mix = [10 , 10.20 , 'apple'] # mixed list\n",
    "\n",
    "list_er_moddhe_list =[ [100,20,30] , [14,12,31] , [13,12,12] ]"
   ]
  },
  {
   "cell_type": "code",
   "execution_count": 5,
   "id": "e18601f1-2671-4aad-890d-176b176c1f78",
   "metadata": {},
   "outputs": [
    {
     "name": "stdout",
     "output_type": "stream",
     "text": [
      "90\n",
      "90\n",
      "[100, 20, 90]\n"
     ]
    }
   ],
   "source": [
    "## access \n",
    "\n",
    "print(numbers[2])\n",
    "\n",
    "numbers[2] = 90\n",
    "\n",
    "print(numbers[2])\n",
    "\n",
    "new_list = numbers[0:3]\n",
    "\n",
    "print(new_list)\n"
   ]
  },
  {
   "cell_type": "code",
   "execution_count": 12,
   "id": "7dd8f3b2-5b52-4f4e-8b3c-e9a8157fb893",
   "metadata": {},
   "outputs": [
    {
     "name": "stdout",
     "output_type": "stream",
     "text": [
      "[100, 20, 30, 40, 50, 100, 100]\n",
      "[100, 20, 30, 40, 50, 100, 100]\n",
      "[100, 20, 30, 40, 50, 100, 100]\n",
      "[20, 30, 40, 50, 100, 100]\n"
     ]
    }
   ],
   "source": [
    "## modification \n",
    "\n",
    "## adding a item \n",
    "numbers.append(80)\n",
    "print(numbers)\n",
    "\n",
    "\n",
    "## insertion at any position \n",
    "numbers.insert(0,45)\n",
    "print(numbers)\n",
    "\n",
    "\n",
    "## deleting the last value \n",
    "numbers.pop()\n",
    "\n",
    "print(numbers)\n",
    "\n",
    "## deleting a specific values \n",
    "numbers.remove(100)\n",
    "\n",
    "print(numbers)\n"
   ]
  },
  {
   "cell_type": "code",
   "execution_count": 28,
   "id": "dd3e46c4-c314-4ece-985e-97f624de0b37",
   "metadata": {},
   "outputs": [
    {
     "name": "stdout",
     "output_type": "stream",
     "text": [
      "[20, 30, 40, 50, 100, 100, 100]\n",
      "[100, 100, 100, 50, 40, 30, 20]\n"
     ]
    }
   ],
   "source": [
    "numbers.sort()\n",
    "print(numbers)\n",
    "\n",
    "numbers.reverse()\n",
    "print(numbers)"
   ]
  },
  {
   "cell_type": "code",
   "execution_count": 26,
   "id": "6c838196-3786-40a3-a577-e1ecd83df3f8",
   "metadata": {},
   "outputs": [
    {
     "name": "stdout",
     "output_type": "stream",
     "text": [
      "[100, 100, 100, 50, 40, 30, 20]\n"
     ]
    }
   ],
   "source": [
    "numbers.sort(reverse=True)\n",
    "\n",
    "print(numbers)\n"
   ]
  },
  {
   "cell_type": "markdown",
   "id": "d11cfb07-4fc2-4645-860f-b14786c55458",
   "metadata": {},
   "source": [
    "## List as Stack\n",
    "\n",
    "\n",
    "\n",
    "\n",
    "\n"
   ]
  },
  {
   "cell_type": "code",
   "execution_count": 41,
   "id": "35a90174-8ce8-4b1a-b65c-55d576e6981f",
   "metadata": {},
   "outputs": [
    {
     "name": "stdout",
     "output_type": "stream",
     "text": [
      "top element : 5\n",
      "top element : 4\n"
     ]
    }
   ],
   "source": [
    "stack =[]\n",
    "\n",
    "# stack e push\n",
    "stack.append(1)\n",
    "stack.append(2)\n",
    "stack.append(3)\n",
    "stack.append(4)\n",
    "stack.append(5)\n",
    "\n",
    "\n",
    "print(f\"top element : {stack[-1]}\")\n",
    "# removing the top element \n",
    "stack.pop()\n",
    "\n",
    "# top element \n",
    "print(f\"top element : {stack[-1]}\")\n"
   ]
  },
  {
   "cell_type": "markdown",
   "id": "c43ccfa3-728d-4680-974b-59f358848790",
   "metadata": {},
   "source": [
    "## List as Queue"
   ]
  },
  {
   "cell_type": "code",
   "execution_count": 39,
   "id": "06e5f806-a2f7-4abc-9a26-b1ca2e1858f6",
   "metadata": {},
   "outputs": [
    {
     "name": "stdout",
     "output_type": "stream",
     "text": [
      "1\n",
      "front e 2\n",
      "front e 3\n"
     ]
    }
   ],
   "source": [
    "queue = []\n",
    "\n",
    "# insertion\n",
    "queue.append(1)\n",
    "queue.append(2)\n",
    "queue.append(3)\n",
    "queue.append(4)\n",
    "queue.append(5)\n",
    "\n",
    "\n",
    "#remove \n",
    "print(queue.pop(0))\n",
    "\n",
    "\n",
    "# accessing the front element \n",
    "\n",
    "print(f\"front e {queue[0]}\")\n",
    "\n",
    "queue.pop(0)\n",
    "\n",
    "print(f\"front e {queue[0]}\")"
   ]
  },
  {
   "cell_type": "markdown",
   "id": "b0a25385-36b7-440a-a33d-81ed23da064b",
   "metadata": {},
   "source": [
    "## list comprehension"
   ]
  },
  {
   "cell_type": "code",
   "execution_count": 51,
   "id": "08e777ac-5fa3-4ef9-a1a0-ead63023d75e",
   "metadata": {},
   "outputs": [
    {
     "name": "stdout",
     "output_type": "stream",
     "text": [
      "[11, 13, 15, 17, 19, 21, 23, 25, 27, 29, 31, 33, 35, 37, 39, 41, 43, 45, 47, 49, 51, 53, 55, 57, 59, 61, 63, 65, 67, 69, 71, 73, 75, 77, 79, 81, 83, 85, 87, 89, 91, 93, 95, 97, 99, 101, 103, 105, 107, 109]\n"
     ]
    }
   ],
   "source": [
    "even = [] \n",
    "#naive\n",
    "# for i in range(101):\n",
    "#     if i%2==0:\n",
    "#         even.append(i)\n",
    "\n",
    "#print(even)\n",
    "\n",
    "\n",
    "random_list = [x+10 for x in range(1,101) if x%2!=0]\n",
    "\n",
    "print(random_list)\n"
   ]
  },
  {
   "cell_type": "code",
   "execution_count": 58,
   "id": "ebee96a4-f3d9-4947-ae0e-b8c02cacbbdf",
   "metadata": {},
   "outputs": [
    {
     "name": "stdout",
     "output_type": "stream",
     "text": [
      "['apple', 'orange', 'lichi']\n"
     ]
    }
   ],
   "source": [
    "fruits = ['APPLE' , 'ORange' , 'liCHi']\n",
    "\n",
    "upper_fruits=[fruit.lower() for fruit in fruits]\n",
    "\n",
    "\n",
    "print(upper_fruits)\n",
    "\n"
   ]
  },
  {
   "cell_type": "code",
   "execution_count": null,
   "id": "2f9d464a-2333-4c80-88a0-f13589def4ae",
   "metadata": {},
   "outputs": [],
   "source": []
  }
 ],
 "metadata": {
  "kernelspec": {
   "display_name": "Python 3 (ipykernel)",
   "language": "python",
   "name": "python3"
  },
  "language_info": {
   "codemirror_mode": {
    "name": "ipython",
    "version": 3
   },
   "file_extension": ".py",
   "mimetype": "text/x-python",
   "name": "python",
   "nbconvert_exporter": "python",
   "pygments_lexer": "ipython3",
   "version": "3.13.5"
  }
 },
 "nbformat": 4,
 "nbformat_minor": 5
}
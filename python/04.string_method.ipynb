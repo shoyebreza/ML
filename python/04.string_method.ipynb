{
 "cells": [
  {
   "cell_type": "code",
   "execution_count": 1,
   "id": "a991660e-2b36-4742-aa07-3b64dde06e4f",
   "metadata": {},
   "outputs": [
    {
     "name": "stdout",
     "output_type": "stream",
     "text": [
      "what is your name?\n",
      "<class 'str'>\n"
     ]
    }
   ],
   "source": [
    "#single line string \n",
    "prompt = \"what is your name?\" \n",
    "\n",
    "print(prompt)\n",
    "print(type(prompt))\n"
   ]
  },
  {
   "cell_type": "code",
   "execution_count": 3,
   "id": "1c7c5fb2-e042-48c6-8b36-af3412193e31",
   "metadata": {},
   "outputs": [
    {
     "name": "stdout",
     "output_type": "stream",
     "text": [
      "tell me about yourself ?\n",
      "what are the issues you've been facing while learning to code ?\n",
      "How are you tackling them ?\n",
      "\n"
     ]
    }
   ],
   "source": [
    "#multi line string\n",
    "message = \"\"\"tell me about yourself ?\n",
    "what are the issues you've been facing while learning to code ?\n",
    "How are you tackling them ?\n",
    "\"\"\"\n",
    "\n",
    "print(message)"
   ]
  },
  {
   "cell_type": "markdown",
   "id": "7c19c7ac-7bcd-4665-ba9c-d6bddce11c84",
   "metadata": {},
   "source": [
    "## Indexing and slicing "
   ]
  },
  {
   "cell_type": "code",
   "execution_count": 5,
   "id": "a3107f80-05f6-4e6f-8a8d-e717051c635e",
   "metadata": {},
   "outputs": [
    {
     "name": "stdout",
     "output_type": "stream",
     "text": [
      "o\n"
     ]
    }
   ],
   "source": [
    "string = \"hello world\" \n",
    "\n",
    "print(string[7])\n"
   ]
  },
  {
   "cell_type": "code",
   "execution_count": 8,
   "id": "f3421886-dd4e-4d6d-9f93-8d25572db506",
   "metadata": {},
   "outputs": [
    {
     "name": "stdout",
     "output_type": "stream",
     "text": [
      "tell me about yourself ?\n"
     ]
    }
   ],
   "source": [
    "first_message = message[0:24]\n",
    "\n",
    "print(first_message)"
   ]
  },
  {
   "cell_type": "code",
   "execution_count": 9,
   "id": "4567fac1-e6b9-4092-9cfa-f3e5a23060e7",
   "metadata": {},
   "outputs": [
    {
     "name": "stdout",
     "output_type": "stream",
     "text": [
      "?\n",
      " \n",
      "f\n",
      "l\n",
      "e\n"
     ]
    }
   ],
   "source": [
    "print(first_message[-1])\n",
    "print(first_message[-2])\n",
    "print(first_message[-3])\n",
    "print(first_message[-4])\n",
    "print(first_message[-5])"
   ]
  },
  {
   "cell_type": "code",
   "execution_count": 20,
   "id": "a33f076f-ddcd-499d-a4bb-b0100e86d522",
   "metadata": {},
   "outputs": [
    {
     "name": "stdout",
     "output_type": "stream",
     "text": [
      "? flesruoy tuoba em llet\n"
     ]
    }
   ],
   "source": [
    "new_first_message = first_message[::-1]\n",
    "\n",
    "print(new_first_message)"
   ]
  },
  {
   "cell_type": "markdown",
   "id": "c03cc887-009b-4f4c-acf7-c865fa1d4885",
   "metadata": {},
   "source": [
    "## String Methods "
   ]
  },
  {
   "cell_type": "code",
   "execution_count": 41,
   "id": "7e66aabd-5f1b-4243-bd3d-32dc716c0868",
   "metadata": {},
   "outputs": [
    {
     "name": "stdout",
     "output_type": "stream",
     "text": [
      "52\n",
      "True\n",
      "Welcome to Phitron AI/ML Course , Phitron AI/ML , Hello AI/ML\n"
     ]
    }
   ],
   "source": [
    "string  = \"Welcome to Phitron ML Course , Phitron ML , Hello ML\" \n",
    "\n",
    "processed_string = string.lower()\n",
    "\n",
    "\n",
    "# length \n",
    "print(len(string))\n",
    "\n",
    "# word ase kina -> bool\n",
    "print(\"phitron\" in processed_string)\n",
    "\n",
    "# shurur kon index theke substring ta shuru hoise \n",
    "\n",
    "shuru_index = processed_string.find(\"phitron\")\n",
    "\n",
    "# shesher dike kon index theke substring ta shuru hoise \n",
    "shesh_index = processed_string.rfind(\"phitron\")\n",
    "\n",
    "\n",
    "## Substring koibar ase \n",
    "\n",
    "count = processed_string.count(\"phitron\")\n",
    "\n",
    "\n",
    "\n",
    "## replace a substring \n",
    "\n",
    "processed_string = string.replace(\"ML\", \"AI/ML\")\n",
    "\n",
    "\n",
    "print(processed_string)\n",
    "\n"
   ]
  },
  {
   "cell_type": "markdown",
   "id": "8055b5b7-ee1a-4611-a174-ded0c85dc37a",
   "metadata": {},
   "source": [
    "## Splitting , Joining , Formatted String "
   ]
  },
  {
   "cell_type": "code",
   "execution_count": 50,
   "id": "ba58733f-d40f-4625-b025-a2447330a15c",
   "metadata": {},
   "outputs": [
    {
     "name": "stdout",
     "output_type": "stream",
     "text": [
      "<class 'str'>\n",
      "<class 'str'>\n"
     ]
    }
   ],
   "source": [
    "prompt = \"what is Phitron ?\"\n",
    "\n",
    "tokens = prompt.split()\n",
    "\n",
    "print(type(tokens))\n",
    "\n",
    "\n",
    "sentence = \"-\".join(tokens)\n",
    "\n",
    "print(type(sentence))\n",
    "\n"
   ]
  },
  {
   "cell_type": "markdown",
   "id": "79beb608-9edf-4a19-a4f9-56e4b14167ea",
   "metadata": {},
   "source": [
    "### formatted string"
   ]
  },
  {
   "cell_type": "code",
   "execution_count": 63,
   "id": "c9f91cf0-9a22-411e-9b0c-55ace5ac0709",
   "metadata": {},
   "outputs": [
    {
     "name": "stdout",
     "output_type": "stream",
     "text": [
      "the model accuracy is 10.83333\n"
     ]
    }
   ],
   "source": [
    "name = \"Adil\" \n",
    "age = 23 \n",
    "height = 5.1123445\n",
    "\n",
    "info = f\"His name is {name.upper()}. He is {age} years old. He is {height:.3} feet tall.\\n\"\n",
    "\n",
    "\n",
    "\n",
    "model_accuracy = 0.83333 \n",
    "\n",
    "print(f\"the model accuracy is {model_accuracy}\")"
   ]
  }
 ],
 "metadata": {
  "kernelspec": {
   "display_name": "Python 3 (ipykernel)",
   "language": "python",
   "name": "python3"
  },
  "language_info": {
   "codemirror_mode": {
    "name": "ipython",
    "version": 3
   },
   "file_extension": ".py",
   "mimetype": "text/x-python",
   "name": "python",
   "nbconvert_exporter": "python",
   "pygments_lexer": "ipython3",
   "version": "3.13.5"
  }
 },
 "nbformat": 4,
 "nbformat_minor": 5
}
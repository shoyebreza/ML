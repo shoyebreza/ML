{
 "cells": [
  {
   "cell_type": "code",
   "execution_count": 3,
   "id": "a7b08c83",
   "metadata": {},
   "outputs": [
    {
     "name": "stdout",
     "output_type": "stream",
     "text": [
      "-1.00\n"
     ]
    }
   ],
   "source": [
    "x, minv, maxv = map(float, input().split())\n",
    "\n",
    "# Compute normalized value\n",
    "result = (x - minv) / (maxv - minv)\n",
    "\n",
    "# Print with 2 decimal places\n",
    "print(f\"{result:.2f}\")"
   ]
  },
  {
   "cell_type": "code",
   "execution_count": 2,
   "id": "85e970c2",
   "metadata": {},
   "outputs": [
    {
     "name": "stdout",
     "output_type": "stream",
     "text": [
      "OFF\n"
     ]
    }
   ],
   "source": [
    "# Read input values\n",
    "brightness, threshold = map(float, input().split())\n",
    "# Compare and print result\n",
    "if brightness >= threshold:\n",
    "    print(\"ON\")\n",
    "else:\n",
    "    print(\"OFF\")\n"
   ]
  },
  {
   "cell_type": "code",
   "execution_count": 1,
   "id": "4cdf281d",
   "metadata": {},
   "outputs": [
    {
     "name": "stdout",
     "output_type": "stream",
     "text": [
      "RETRY\n"
     ]
    }
   ],
   "source": [
    "N = int(input())\n",
    "target = float(input())\n",
    "\n",
    "total = 0.0\n",
    "\n",
    "for i in range(N):\n",
    "    loss = float(input())\n",
    "    total += loss\n",
    "    \n",
    "average = total / N\n",
    "\n",
    "if average <= target:\n",
    "    print(\"PASS\")\n",
    "else:\n",
    "    print(\"RETRY\")"
   ]
  },
  {
   "cell_type": "code",
   "execution_count": 4,
   "id": "e9d3df30",
   "metadata": {},
   "outputs": [
    {
     "name": "stdout",
     "output_type": "stream",
     "text": [
      "ACCEPT\n"
     ]
    }
   ],
   "source": [
    "N = int(input())\n",
    "\n",
    "y_cnt = 0\n",
    "n_cnt = 0\n",
    "\n",
    "for i in range(N):\n",
    "    vote = str(input().upper())\n",
    "    if vote == \"YES\":\n",
    "        y_cnt+=1\n",
    "    else:\n",
    "        n_cnt+=1\n",
    "\n",
    "if y_cnt>=n_cnt:\n",
    "    print(\"ACCEPT\")\n",
    "\n",
    "else:\n",
    "    print(\"REJECT\")"
   ]
  },
  {
   "cell_type": "code",
   "execution_count": 3,
   "id": "75029610",
   "metadata": {},
   "outputs": [
    {
     "name": "stdout",
     "output_type": "stream",
     "text": [
      "Sad Mood\n"
     ]
    }
   ],
   "source": [
    "message = str(input().lower())\n",
    "happy = [\"happy\", \"joy\", \"smile\"]\n",
    "sad   = [\"sad\", \"cry\", \"angry\"]\n",
    "\n",
    "if any(word in message for word in happy):\n",
    "    print(\"Happy Mood\")\n",
    "elif any(word in message for word in sad):\n",
    "    print(\"Sad Mood\")\n",
    "else:\n",
    "    print(\"Neutral Mood\")\n"
   ]
  },
  {
   "cell_type": "code",
   "execution_count": 7,
   "id": "c109a1df",
   "metadata": {},
   "outputs": [
    {
     "name": "stdout",
     "output_type": "stream",
     "text": [
      "Bright Image\n"
     ]
    }
   ],
   "source": [
    "\n",
    "pixels = list(map(int, input().split()))\n",
    "\n",
    "\n",
    "average_brightness = sum(pixels) / len(pixels)\n",
    "\n",
    "\n",
    "if average_brightness < 85:\n",
    "    print(\"Dark Image\")\n",
    "elif average_brightness <= 170:\n",
    "    print(\"Normal Image\")\n",
    "else:\n",
    "    print(\"Bright Image\")"
   ]
  },
  {
   "cell_type": "code",
   "execution_count": 8,
   "id": "1065be2f",
   "metadata": {},
   "outputs": [
    {
     "name": "stdout",
     "output_type": "stream",
     "text": [
      "Biased Model\n"
     ]
    }
   ],
   "source": [
    "predictions = input().split()\n",
    "total = len(predictions)\n",
    "count_A = predictions.count('A')\n",
    "\n",
    "if count_A > 0.7 * total or (total - count_A) > 0.7 * total:\n",
    "    print(\"Biased Model\")\n",
    "else:\n",
    "    print(\"Fair Model\")"
   ]
  },
  {
   "cell_type": "code",
   "execution_count": 10,
   "id": "f3fbc276",
   "metadata": {},
   "outputs": [
    {
     "name": "stdout",
     "output_type": "stream",
     "text": [
      "Not AI Related\n"
     ]
    }
   ],
   "source": [
    "message = str(input().lower())\n",
    "key = [\"ai\", \"data\", \"model\",\"learn\",\"train\",\"neural\"]\n",
    "\n",
    "if any(word in message for word in key):\n",
    "    print(\"AI Detected\")\n",
    "else:\n",
    "    print(\"Not AI Related\")\n"
   ]
  }
 ],
 "metadata": {
  "kernelspec": {
   "display_name": "Python 3",
   "language": "python",
   "name": "python3"
  },
  "language_info": {
   "codemirror_mode": {
    "name": "ipython",
    "version": 3
   },
   "file_extension": ".py",
   "mimetype": "text/x-python",
   "name": "python",
   "nbconvert_exporter": "python",
   "pygments_lexer": "ipython3",
   "version": "3.13.2"
  }
 },
 "nbformat": 4,
 "nbformat_minor": 5
}

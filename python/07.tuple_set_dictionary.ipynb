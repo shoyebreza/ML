{
 "cells": [
  {
   "cell_type": "markdown",
   "id": "2742c22d-3c2f-4fee-8d4a-5782b31185cc",
   "metadata": {},
   "source": [
    "## Tuples"
   ]
  },
  {
   "cell_type": "code",
   "execution_count": 14,
   "id": "2b511e07-a7f3-4a58-baea-bc2ff248d647",
   "metadata": {},
   "outputs": [
    {
     "name": "stdout",
     "output_type": "stream",
     "text": [
      "<class 'tuple'> (10, 20, 30)\n"
     ]
    }
   ],
   "source": [
    "# declaration \n",
    "\n",
    "tup = (10,20,30,40) \n",
    "\n",
    "float_tup = (10.5,10.2)\n",
    "mixed_tup = (10 , 10.5 , \"str\", True) \n",
    "\n",
    "\n",
    "lst = [10,20,30]\n",
    "\n",
    "tup1 = tuple(lst)\n",
    "\n",
    "print(type(tup1), tup1)\n",
    "\n",
    "\n",
    "\n"
   ]
  },
  {
   "cell_type": "code",
   "execution_count": 18,
   "id": "9ae60cbd-28f7-42eb-8203-5dd0c19c4cac",
   "metadata": {},
   "outputs": [
    {
     "name": "stdout",
     "output_type": "stream",
     "text": [
      "10.5\n",
      "(10, 20, 30)\n"
     ]
    }
   ],
   "source": [
    "# Access \n",
    "tup = ( 10 , 20 , 30 , 10.5 , \"str\" , False )\n",
    "\n",
    "#index \n",
    "print(tup[3]) \n",
    "\n",
    "# slicing \n",
    "\n",
    "new_tup = tup[0:3]\n",
    "print(new_tup)\n",
    "\n"
   ]
  },
  {
   "cell_type": "code",
   "execution_count": 21,
   "id": "5704daa1-1653-42d9-8175-d6fbb92d954a",
   "metadata": {},
   "outputs": [
    {
     "name": "stdout",
     "output_type": "stream",
     "text": [
      "[10, 100, 30, 40, 60]\n"
     ]
    },
    {
     "ename": "TypeError",
     "evalue": "'tuple' object does not support item assignment",
     "output_type": "error",
     "traceback": [
      "\u001b[1;31m---------------------------------------------------------------------------\u001b[0m",
      "\u001b[1;31mTypeError\u001b[0m                                 Traceback (most recent call last)",
      "Cell \u001b[1;32mIn[21], line 11\u001b[0m\n\u001b[0;32m      6\u001b[0m \u001b[38;5;28mprint\u001b[39m(lst)\n\u001b[0;32m      9\u001b[0m tup\u001b[38;5;241m=\u001b[39m ( \u001b[38;5;241m10\u001b[39m , \u001b[38;5;241m20\u001b[39m , \u001b[38;5;241m30\u001b[39m , \u001b[38;5;241m40\u001b[39m ) \n\u001b[1;32m---> 11\u001b[0m tup[\u001b[38;5;241m1\u001b[39m]\u001b[38;5;241m=\u001b[39m \u001b[38;5;241m100\u001b[39m \n\u001b[0;32m     13\u001b[0m \u001b[38;5;28mprint\u001b[39m(tup)\n",
      "\u001b[1;31mTypeError\u001b[0m: 'tuple' object does not support item assignment"
     ]
    }
   ],
   "source": [
    "# mutable\n",
    "\n",
    "lst = [ 10 , 20 , 30 , 40 ] \n",
    "lst.append(60)\n",
    "lst[1] = 100\n",
    "print(lst)\n",
    "\n",
    "# immutable\n",
    "tup= ( 10 , 20 , 30 , 40 ) \n",
    "tup[1]= 100 \n",
    "print(tup) "
   ]
  },
  {
   "cell_type": "code",
   "execution_count": 26,
   "id": "d3490fef-ad36-4e39-bb8d-a941d3ec7cee",
   "metadata": {},
   "outputs": [
    {
     "name": "stdout",
     "output_type": "stream",
     "text": [
      "3\n",
      "3\n"
     ]
    }
   ],
   "source": [
    "# tuple method \n",
    "tup= ( 10 , 20 , 30 , 40 , 10 , 20 , 30 ,10 )\n",
    "\n",
    "print(tup.count(10))\n",
    "print(tup.index(40))\n"
   ]
  },
  {
   "cell_type": "markdown",
   "id": "d2f77097-8dfc-48b1-89f4-13803105e978",
   "metadata": {},
   "source": [
    "## Set\n"
   ]
  },
  {
   "cell_type": "code",
   "execution_count": 29,
   "id": "e568eba7-e46c-4bb0-a064-c5a51013c2ec",
   "metadata": {},
   "outputs": [
    {
     "name": "stdout",
     "output_type": "stream",
     "text": [
      "<class 'set'> {1, 2, 3}\n"
     ]
    }
   ],
   "source": [
    "A = { 1, 2 , 3 } \n",
    "\n",
    "print(type(A) , A )"
   ]
  },
  {
   "cell_type": "code",
   "execution_count": 35,
   "id": "7017944e-04cb-4bb6-991d-fce4614ddf7c",
   "metadata": {},
   "outputs": [
    {
     "name": "stdout",
     "output_type": "stream",
     "text": [
      "<class 'list'>\n",
      "<class 'tuple'>\n",
      "<class 'set'>\n"
     ]
    }
   ],
   "source": [
    "## empty structures \n",
    "B = [] \n",
    "\n",
    "print(type(B)) \n",
    "\n",
    "C= () \n",
    "\n",
    "print(type(C))\n",
    "\n",
    "\n",
    "S = set()\n",
    "\n",
    "print(type(S))\n",
    "\n"
   ]
  },
  {
   "cell_type": "code",
   "execution_count": 41,
   "id": "5c868efe-ec3a-472b-be8c-1bcbc7e14c03",
   "metadata": {},
   "outputs": [
    {
     "name": "stdout",
     "output_type": "stream",
     "text": [
      "not present\n",
      "10\n"
     ]
    }
   ],
   "source": [
    "#accessing \n",
    "\n",
    "S= { 1 ,2 ,3 , 4 ,1 ,2 } \n",
    "\n",
    "if (10 in S):\n",
    "    print(\"3 is present\")\n",
    "else:\n",
    "    print(\"not present\")\n",
    "\n",
    "sum =0 \n",
    "\n",
    "for element in S:\n",
    "    sum+= element \n",
    "\n",
    "print(sum)\n"
   ]
  },
  {
   "cell_type": "code",
   "execution_count": 48,
   "id": "57747c63-d8e7-4a19-8812-459ecd79ed5c",
   "metadata": {},
   "outputs": [
    {
     "name": "stdout",
     "output_type": "stream",
     "text": [
      "{0, 1, 2, 3, 4, 5, 10}\n",
      "{2, 3, 4, 5, 10}\n",
      "{2, 3, 4, 10}\n"
     ]
    }
   ],
   "source": [
    "#mutable\n",
    "\n",
    "s= {5, 1 , 2 ,4, 3} \n",
    "\n",
    "s.add(10) \n",
    "s.add(0)\n",
    "\n",
    "print(s)\n",
    "\n",
    "s.pop()\n",
    "s.pop()\n",
    "print(s)\n",
    "\n",
    "s.remove(5) \n",
    "\n",
    "print(s)\n"
   ]
  },
  {
   "cell_type": "markdown",
   "id": "88755aeb-e23b-42ed-8ff3-702b9695c13a",
   "metadata": {},
   "source": [
    "## Set Mathematical Methods\n",
    "\n"
   ]
  },
  {
   "cell_type": "code",
   "execution_count": 54,
   "id": "46269b1c-a591-459f-89af-59a2d99682b4",
   "metadata": {},
   "outputs": [
    {
     "name": "stdout",
     "output_type": "stream",
     "text": [
      "{1, 2, 3, 4, 5, 6}\n",
      "{1, 2}\n",
      "False\n",
      "False\n"
     ]
    }
   ],
   "source": [
    "a = { 1, 2, 3 } \n",
    "b = {1, 2 , 5,6, 4 } \n",
    "\n",
    "print( a.union(b) )\n",
    "\n",
    "print(a.intersection(b)) \n",
    "\n",
    "\n",
    "print(a.isdisjoint(b)) \n",
    "\n",
    "\n",
    "print(a.issubset(b)) \n",
    "\n"
   ]
  },
  {
   "cell_type": "markdown",
   "id": "f114bcba-dde6-4858-8ce8-51d6306d5b12",
   "metadata": {},
   "source": [
    "## Dictionaries in Python"
   ]
  },
  {
   "cell_type": "code",
   "execution_count": 56,
   "id": "bfa3e377-7edd-403f-bba5-0108a88cc3af",
   "metadata": {},
   "outputs": [
    {
     "name": "stdout",
     "output_type": "stream",
     "text": [
      "<class 'dict'>\n",
      "<class 'dict'> {'name': 'Phitron', 'age': 20, 'address': 'Dhaka', 'numbers': [10, 20, 30]}\n"
     ]
    }
   ],
   "source": [
    "# empty \n",
    "dic = {}\n",
    "print(type(dic))\n",
    "\n",
    "dic ={ \"name\" : \"Phitron\" , \"age\": 20 , \"address\" : \"Dhaka\" , \"numbers\":[10,20,30]} \n",
    "\n",
    "print(type(dic) , dic) "
   ]
  },
  {
   "cell_type": "code",
   "execution_count": 62,
   "id": "2c858682-c96d-4a48-893b-df987222c9ab",
   "metadata": {},
   "outputs": [
    {
     "name": "stdout",
     "output_type": "stream",
     "text": [
      "[10, 20, 30]\n",
      "20\n",
      "{'name': 'Phitron', 'age': 30, 'address': 'Dhaka', 'numbers': [10, 20, 30]}\n"
     ]
    }
   ],
   "source": [
    "# access \n",
    "# dic_name[key]\n",
    "\n",
    "print(dic[\"numbers\"])\n",
    "print( dic.get(\"age\"))\n",
    "\n",
    "\n",
    "dic[\"name\"] = \"Phitron AI/ML\" \n",
    "\n",
    "dic ={ \"name\" : \"Phitron\" , \"age\": 20 , \"address\" : \"Dhaka\" , \"numbers\":[10,20,30],\"age\":30}\n",
    "print(dic) \n"
   ]
  },
  {
   "cell_type": "code",
   "execution_count": 66,
   "id": "7f67de23-ad97-4d89-84ea-863388efacb5",
   "metadata": {},
   "outputs": [
    {
     "name": "stdout",
     "output_type": "stream",
     "text": [
      "{'name': 'Phitron', 'age': 30, 'address': 'Dhaka', 'numbers': [10, 20, 30]}\n",
      "None\n",
      "0\n"
     ]
    }
   ],
   "source": [
    "#printing default values\n",
    "print(dic) \n",
    "\n",
    "print(dic.get(\"math_marks\"))\n",
    "print(dic.get(\"math_marks\",0))\n",
    "\n"
   ]
  },
  {
   "cell_type": "code",
   "execution_count": 70,
   "id": "04e5b24d-93aa-45dc-b18b-a916d36a2676",
   "metadata": {},
   "outputs": [
    {
     "name": "stdout",
     "output_type": "stream",
     "text": [
      "{'name': 'Phitron', 'age': 30, 'address': 'Dhaka', 'numbers': [10, 20, 30]}\n",
      "{'name': 'Phitron', 'age': 30, 'address': 'Dhaka', 'numbers': [10, 20, 30], 'math_marks': 30}\n",
      "{'name': 'Phitron', 'age': 30, 'address': 'Dhaka', 'numbers': [10, 20, 30], 'math_marks': 30, 'english_marks': 40}\n"
     ]
    }
   ],
   "source": [
    "# adding a value\n",
    "\n",
    "dic ={ \"name\" : \"Phitron\" , \"age\": 20 , \"address\" : \"Dhaka\" , \"numbers\":[10,20,30],\"age\":30}\n",
    "\n",
    "print(dic)\n",
    "dic[\"math_marks\"]= 30 \n",
    "print(dic) \n",
    "dic.update({\"english_marks\": 40}) \n",
    "\n",
    "print(dic) \n",
    "\n",
    "\n"
   ]
  },
  {
   "cell_type": "code",
   "execution_count": 71,
   "id": "26ea3eda-e3ac-4750-98c9-7c946f3a3d40",
   "metadata": {},
   "outputs": [
    {
     "name": "stdout",
     "output_type": "stream",
     "text": [
      "{'name': 'Phitron', 'age': 30, 'address': 'Dhaka', 'numbers': [10, 20, 30], 'english_marks': 40}\n"
     ]
    }
   ],
   "source": [
    "# deleting \n",
    "\n",
    "del dic[\"math_marks\"]\n",
    "print(dic) \n"
   ]
  },
  {
   "cell_type": "code",
   "execution_count": 74,
   "id": "436bc3bf-8f6f-4045-a2a9-d7002d152bce",
   "metadata": {},
   "outputs": [
    {
     "name": "stdout",
     "output_type": "stream",
     "text": [
      "{'name': 'Phitron', 'age': 30, 'address': 'Dhaka', 'numbers': [10, 20, 30], 'english_marks': 40}\n"
     ]
    }
   ],
   "source": [
    "dic_2=dic.copy()\n",
    "print(dic_2)\n"
   ]
  },
  {
   "cell_type": "code",
   "execution_count": 81,
   "id": "2ae5ee6c-7974-42ab-b392-23675e4be120",
   "metadata": {},
   "outputs": [
    {
     "ename": "TypeError",
     "evalue": "unhashable type: 'dict'",
     "output_type": "error",
     "traceback": [
      "\u001b[1;31m---------------------------------------------------------------------------\u001b[0m",
      "\u001b[1;31mTypeError\u001b[0m                                 Traceback (most recent call last)",
      "Cell \u001b[1;32mIn[81], line 3\u001b[0m\n\u001b[0;32m      1\u001b[0m \u001b[38;5;66;03m# testing \u001b[39;00m\n\u001b[1;32m----> 3\u001b[0m dic_3 \u001b[38;5;241m=\u001b[39m { {\u001b[38;5;124m\"\u001b[39m\u001b[38;5;124mname\u001b[39m\u001b[38;5;124m\"\u001b[39m : \u001b[38;5;124m\"\u001b[39m\u001b[38;5;124madil\u001b[39m\u001b[38;5;124m\"\u001b[39m , \u001b[38;5;124m\"\u001b[39m\u001b[38;5;124mage\u001b[39m\u001b[38;5;124m\"\u001b[39m :\u001b[38;5;241m20\u001b[39m} : \u001b[38;5;241m20\u001b[39m }\n\u001b[0;32m      5\u001b[0m \u001b[38;5;28mprint\u001b[39m(dic_3)\n",
      "\u001b[1;31mTypeError\u001b[0m: unhashable type: 'dict'"
     ]
    }
   ],
   "source": [
    "\n",
    "# testing \n",
    "\n",
    "dic_3 = { {\"name\" : \"adil\" , \"age\" :20} : 20 }\n",
    "print(dic_3) \n",
    "\n"
   ]
  },
  {
   "cell_type": "markdown",
   "id": "2675989b-8ad4-45cb-b859-c3df9e71b54b",
   "metadata": {},
   "source": [
    "## Iterating over Dictionary "
   ]
  },
  {
   "cell_type": "code",
   "execution_count": 95,
   "id": "fdb0616c-466b-4f5c-b7d6-2257e07518c0",
   "metadata": {},
   "outputs": [
    {
     "name": "stdout",
     "output_type": "stream",
     "text": [
      "dict_keys(['name', 'age', 'address', 'numbers'])\n",
      "dict_keys(['name', 'age', 'address', 'numbers', 'math_numebers'])\n",
      "dict_values(['Phitron', 30, 'Dhaka', [10, 20, 30], 30])\n",
      "dict_values(['Phitron', 30, 'Dhaka', [10, 20, 30], 40])\n",
      "dict_items([('name', 'Phitron'), ('age', 30), ('address', 'Dhaka'), ('numbers', [10, 20, 30]), ('math_numebers', 40)])\n"
     ]
    }
   ],
   "source": [
    "dic ={ \"name\" : \"Phitron\" , \"age\": 20 , \"address\" : \"Dhaka\" , \"numbers\":[10,20,30],\"age\":30}\n",
    "\n",
    "keys = dic.keys()\n",
    "\n",
    "print(keys)\n",
    "\n",
    "dic[\"math_numebers\"] = 30 \n",
    "\n",
    "print(keys) \n",
    "\n",
    "values = dic.values() \n",
    "\n",
    "print(values) \n",
    "\n",
    "dic[\"math_numebers\"] = 40 \n",
    "print(values) \n",
    "\n",
    "items = dic.items() \n",
    "\n",
    "print(items)\n",
    "\n"
   ]
  },
  {
   "cell_type": "code",
   "execution_count": 97,
   "id": "0ca10750-2d3a-4e17-9d12-fcae057845cc",
   "metadata": {},
   "outputs": [
    {
     "name": "stdout",
     "output_type": "stream",
     "text": [
      "name Phitron\n",
      "age 30\n",
      "address Dhaka\n",
      "numbers [10, 20, 30]\n",
      "math_numebers 40\n"
     ]
    }
   ],
   "source": [
    "# iteration \n",
    "for key,value in dic.items():\n",
    "    print(key,value)\n"
   ]
  },
  {
   "cell_type": "markdown",
   "id": "da42f85d-2963-4a73-b61e-d73f8327a405",
   "metadata": {},
   "source": [
    "# Dictionary Comprehension "
   ]
  },
  {
   "cell_type": "code",
   "execution_count": 109,
   "id": "3e2a1de7-cbe4-48d0-8763-8d82df3d8565",
   "metadata": {},
   "outputs": [
    {
     "name": "stdout",
     "output_type": "stream",
     "text": [
      "{2: 4, 4: 16, 6: 36, 8: 64, 10: 100}\n"
     ]
    }
   ],
   "source": [
    "square = {x:x**2  for x in range(1,11) if x%2==0}\n",
    "\n",
    "print(square) "
   ]
  },
  {
   "cell_type": "code",
   "execution_count": 110,
   "id": "d3ac21f1-703a-48ca-924a-e3b9f5de658f",
   "metadata": {},
   "outputs": [
    {
     "name": "stdout",
     "output_type": "stream",
     "text": [
      "{(10, 10.5): 'dhaka', (20.5, 192): 'chattogram', (101, 102): 'sylhet'}\n"
     ]
    }
   ],
   "source": [
    "Co_ordinates = [(10,10.5),(20.5,192) , ( 101,102) ]\n",
    "Locations =[\"dhaka\" , \"chattogram\" , \"sylhet\"]\n",
    "\n",
    "exact_location = {co_or : loc for co_or, loc in zip(Co_ordinates,Locations)}\n",
    "\n",
    "print(exact_location) "
   ]
  },
  {
   "cell_type": "markdown",
   "id": "2b74879d-6b31-4905-a095-e92cff707ddd",
   "metadata": {},
   "source": [
    "# Problem Solving with In Built Structures "
   ]
  },
  {
   "cell_type": "markdown",
   "id": "0b0e1119-089d-43d7-97a2-5cba8001d603",
   "metadata": {},
   "source": [
    "### 1. Given a list of numbers, make a list with unique values. "
   ]
  },
  {
   "cell_type": "code",
   "execution_count": 112,
   "id": "bc8aecb1-8271-47f5-8eeb-d43a576d39ea",
   "metadata": {},
   "outputs": [
    {
     "name": "stdout",
     "output_type": "stream",
     "text": [
      "[10, 20, 50, 30]\n"
     ]
    }
   ],
   "source": [
    "lst = [10 , 20 , 10 , 30 , 30 , 50 , 30 , 10 , 20 , 10 , 10 ]\n",
    "\n",
    "unique_values = set(lst) ## conversion\n",
    "\n",
    "lst = list(unique_values) \n",
    "\n",
    "print(lst) \n"
   ]
  },
  {
   "cell_type": "markdown",
   "id": "12d381e6-5841-4834-966a-ebfee392c666",
   "metadata": {},
   "source": [
    "### 2. Given a string , print the frequency of the words "
   ]
  },
  {
   "cell_type": "code",
   "execution_count": 122,
   "id": "77c9a3fd-106d-4bce-9c00-dd1b073ef169",
   "metadata": {},
   "outputs": [
    {
     "name": "stdout",
     "output_type": "stream",
     "text": [
      "count of data is 9\n",
      "count of science is 1\n",
      "count of machine is 3\n",
      "count of learning is 2\n",
      "count of analysis is 1\n",
      "count of statistics is 1\n",
      "count of models is 2\n",
      "count of training is 1\n",
      "count of validation is 2\n",
      "count of features is 2\n",
      "count of labels is 1\n",
      "count of preprocessing is 1\n",
      "count of augmentation is 1\n",
      "count of optimization is 1\n",
      "count of gradient is 1\n",
      "count of descent is 1\n",
      "count of neural is 1\n",
      "count of networks is 1\n",
      "count of tensors is 1\n",
      "count of matrices is 1\n",
      "count of visualization is 1\n",
      "count of exploration is 1\n",
      "count of pandas is 1\n",
      "count of numpy is 1\n",
      "count of matplotlib is 1\n",
      "count of seaborn is 1\n",
      "count of scikitlearn is 1\n",
      "count of tensorflow is 1\n",
      "count of pytorch is 1\n",
      "count of deployment is 1\n",
      "count of inference is 1\n",
      "count of production is 1\n",
      "count of monitoring is 1\n",
      "count of reproducibility is 1\n",
      "count of experiments is 1\n",
      "count of results is 1\n",
      "count of metrics is 1\n",
      "count of accuracy is 1\n",
      "count of precision is 1\n",
      "count of recall is 1\n",
      "count of f1 is 1\n",
      "count of cross is 1\n"
     ]
    }
   ],
   "source": [
    "string = \"\"\"data science machine learning data analysis machine \n",
    "learning statistics data models data training data validation features\n",
    "features labels preprocessing data augmentation models data optimization \n",
    "gradient descent neural networks data tensors matrices visualization \n",
    "exploration pandas numpy matplotlib seaborn scikitlearn tensorflow pytorch \n",
    "deployment inference production monitoring reproducibility experiments results \n",
    "metrics accuracy precision recall f1 cross validation data machine\n",
    "\"\"\"\n",
    "\n",
    "words = string.split()\n",
    "\n",
    "count = {} \n",
    "\n",
    "\n",
    "for word in words:\n",
    "    count[word]= count.get(word,0) +1  \n",
    "\n",
    "for k,v in count.items():\n",
    "    print(f\"count of {k} is {v}\")\n"
   ]
  },
  {
   "cell_type": "code",
   "execution_count": null,
   "id": "df5c69e3-2d56-4d2d-bf4a-28c2932dad3a",
   "metadata": {},
   "outputs": [],
   "source": []
  },
  {
   "cell_type": "code",
   "execution_count": null,
   "id": "3a78daf1-5662-4d5d-b5ed-bb5efd11cd65",
   "metadata": {},
   "outputs": [],
   "source": []
  }
 ],
 "metadata": {
  "kernelspec": {
   "display_name": "Python 3 (ipykernel)",
   "language": "python",
   "name": "python3"
  },
  "language_info": {
   "codemirror_mode": {
    "name": "ipython",
    "version": 3
   },
   "file_extension": ".py",
   "mimetype": "text/x-python",
   "name": "python",
   "nbconvert_exporter": "python",
   "pygments_lexer": "ipython3",
   "version": "3.13.5"
  }
 },
 "nbformat": 4,
 "nbformat_minor": 5
}
{
 "cells": [
  {
   "cell_type": "markdown",
   "id": "dea35c4a-ca2e-48a1-92bb-d09d433afd83",
   "metadata": {},
   "source": [
    "### Functions"
   ]
  },
  {
   "cell_type": "code",
   "execution_count": 3,
   "id": "b46841e1-4d50-49cd-a689-273cc177be16",
   "metadata": {},
   "outputs": [],
   "source": [
    "def greet():\n",
    "    print(\"hello\")"
   ]
  },
  {
   "cell_type": "code",
   "execution_count": 2,
   "id": "ae2a337e-050f-4baa-9763-86cb0664bfc0",
   "metadata": {},
   "outputs": [
    {
     "name": "stdout",
     "output_type": "stream",
     "text": [
      "hello\n"
     ]
    }
   ],
   "source": [
    "greet()"
   ]
  },
  {
   "cell_type": "markdown",
   "id": "94b8c435-cdc6-4fb0-b05a-09d27f522e80",
   "metadata": {},
   "source": [
    "# function parameters ( Input )"
   ]
  },
  {
   "cell_type": "code",
   "execution_count": 45,
   "id": "6e7a68dd-6f8b-492c-9817-31a30f7d1fa2",
   "metadata": {},
   "outputs": [],
   "source": [
    "def greet(user = \"guest\"):\n",
    "    print(f\"hello {user}\")"
   ]
  },
  {
   "cell_type": "code",
   "execution_count": 55,
   "id": "353b2b57-48e5-4920-a679-f9a543b06260",
   "metadata": {},
   "outputs": [
    {
     "name": "stdout",
     "output_type": "stream",
     "text": [
      "hello adil\n"
     ]
    }
   ],
   "source": [
    "greet(\"adil\")"
   ]
  },
  {
   "cell_type": "code",
   "execution_count": 62,
   "id": "9bd8a9e7-a17f-49f9-9825-a19d1e46dd27",
   "metadata": {},
   "outputs": [
    {
     "name": "stdout",
     "output_type": "stream",
     "text": [
      "10 20 30\n",
      "540\n",
      "30 10 20\n",
      "1030\n"
     ]
    }
   ],
   "source": [
    "def square_addition(a,b,c):\n",
    "    print(f\"{a} {b} {c}\")\n",
    "    a=a**2 \n",
    "    b= b**2 \n",
    "    return a+b+c \n",
    "#positional argument\n",
    "ans = square_addition(10,20,30) + 10 \n",
    "print(ans) \n",
    "\n",
    "#keyword argument\n",
    "ans = square_addition(b=10,c=20,a=30) + 10 \n",
    "print(ans) "
   ]
  },
  {
   "cell_type": "code",
   "execution_count": 71,
   "id": "3fdbffb0-8348-4cd7-bc43-b7daf40faa26",
   "metadata": {},
   "outputs": [],
   "source": [
    "def square_addition(*args):\n",
    "    summation =0 \n",
    "    for i in args:\n",
    "        i = i**2 \n",
    "        summation+=i\n",
    "    return summation          "
   ]
  },
  {
   "cell_type": "code",
   "execution_count": 72,
   "id": "71153742-5419-40e5-9975-0cade90dcae3",
   "metadata": {},
   "outputs": [
    {
     "name": "stdout",
     "output_type": "stream",
     "text": [
      "5500\n"
     ]
    }
   ],
   "source": [
    "ans = square_addition(10,20,30,40,50)\n",
    "print(ans)"
   ]
  },
  {
   "cell_type": "code",
   "execution_count": 75,
   "id": "b9ce7ad8-38eb-47bc-af27-6126ce804620",
   "metadata": {},
   "outputs": [],
   "source": [
    "def student(**kwargs): \n",
    "    for key,val in kwargs.items():\n",
    "        print(f\"{key} : {val}\")"
   ]
  },
  {
   "cell_type": "code",
   "execution_count": 76,
   "id": "96a54742-b71f-45ce-b89f-f0793cacb0d8",
   "metadata": {},
   "outputs": [
    {
     "name": "stdout",
     "output_type": "stream",
     "text": [
      "name : adil\n",
      "cls : 10\n",
      "roll : 30\n",
      "marks : 30.5\n"
     ]
    }
   ],
   "source": [
    "student(name = \"adil\" , cls =10 , roll=30 , marks = 30.5) "
   ]
  },
  {
   "cell_type": "markdown",
   "id": "06254eb6-539f-463e-82a3-7013b9dfd29b",
   "metadata": {},
   "source": [
    "## return "
   ]
  },
  {
   "cell_type": "code",
   "execution_count": 77,
   "id": "537f499c-37bc-4775-801d-60e44a16bf4d",
   "metadata": {},
   "outputs": [
    {
     "data": {
      "text/plain": [
       "int"
      ]
     },
     "execution_count": 77,
     "metadata": {},
     "output_type": "execute_result"
    }
   ],
   "source": [
    "def give_prediction():\n",
    "    return 10 \n",
    "\n",
    "type(give_prediction())"
   ]
  },
  {
   "cell_type": "code",
   "execution_count": 78,
   "id": "55a410ac-3d4a-454c-abd0-6c70b62bc880",
   "metadata": {},
   "outputs": [
    {
     "data": {
      "text/plain": [
       "float"
      ]
     },
     "execution_count": 78,
     "metadata": {},
     "output_type": "execute_result"
    }
   ],
   "source": [
    "def give_prediction():\n",
    "    return 10.5 \n",
    "\n",
    "type(give_prediction())"
   ]
  },
  {
   "cell_type": "code",
   "execution_count": 79,
   "id": "7c26c1d5-a5a6-44a5-936e-a77cd157be3a",
   "metadata": {},
   "outputs": [
    {
     "data": {
      "text/plain": [
       "str"
      ]
     },
     "execution_count": 79,
     "metadata": {},
     "output_type": "execute_result"
    }
   ],
   "source": [
    "def give_prediction():\n",
    "    return \"name\" \n",
    "\n",
    "type(give_prediction())"
   ]
  },
  {
   "cell_type": "code",
   "execution_count": 84,
   "id": "bc816f7e-7ae3-409c-ad5b-23d657c4af26",
   "metadata": {},
   "outputs": [
    {
     "name": "stdout",
     "output_type": "stream",
     "text": [
      "(10, 30)\n",
      "10 30\n"
     ]
    }
   ],
   "source": [
    "def give_prediction(a,b):\n",
    "\n",
    "    return a,b \n",
    "\n",
    "type(give_prediction(10,30))\n",
    "\n",
    "print(give_prediction(10,30))\n",
    "\n",
    "## unpacking \n",
    "\n",
    "x , y = give_prediction(10,30)\n",
    "\n",
    "print(x,y)"
   ]
  },
  {
   "cell_type": "code",
   "execution_count": 87,
   "id": "2c5d3599-87e1-44ee-8e74-fd1a9400b20f",
   "metadata": {},
   "outputs": [
    {
     "name": "stdout",
     "output_type": "stream",
     "text": [
      "[10, 20, 30]\n",
      "[20, 30, 40]\n"
     ]
    }
   ],
   "source": [
    "def give_prediction():\n",
    "\n",
    "    a= [10,20,30]\n",
    "    b= [20,30,40]\n",
    "    return a,b \n",
    "\n",
    "type(give_prediction())\n",
    "\n",
    "## unpacking \n",
    "x , y = give_prediction()\n",
    "\n",
    "print(x)\n",
    "print(y)"
   ]
  },
  {
   "cell_type": "code",
   "execution_count": 103,
   "id": "52eb1d98-ea26-45d6-8f47-be531593dad3",
   "metadata": {},
   "outputs": [
    {
     "name": "stdout",
     "output_type": "stream",
     "text": [
      "<class 'tuple'>\n",
      "{10, 20, 30}\n",
      "[100, 200, 300]\n"
     ]
    }
   ],
   "source": [
    "def give_prediction():\n",
    "\n",
    "    a= {10,20,30}\n",
    "    b = [100,200,300]\n",
    "    return a,b \n",
    "\n",
    "x = give_prediction()\n",
    "\n",
    "print(type(x))\n",
    "\n",
    "for item in x:\n",
    "    print(item) \n",
    "\n"
   ]
  },
  {
   "cell_type": "code",
   "execution_count": 108,
   "id": "407d69af-6837-4a17-82b0-bb0e95c565c0",
   "metadata": {},
   "outputs": [
    {
     "name": "stdout",
     "output_type": "stream",
     "text": [
      "<class 'dict'>\n",
      "('name', 'adil')\n",
      "('addr', 'Ctg')\n"
     ]
    }
   ],
   "source": [
    "def give_prediction():\n",
    "    return { \"name\" : \"adil\" , \"addr\" : \"Ctg\"},{ \"name\" : \"abrar\" , \"addr\" : \"dhaka\"}\n",
    "\n",
    "\n",
    "x,y = give_prediction()\n",
    "\n",
    "print(type(x))\n",
    "\n",
    "\n",
    "for item in x.items():\n",
    "    print(item) \n"
   ]
  },
  {
   "cell_type": "code",
   "execution_count": null,
   "id": "e51e2916-b3cc-45a0-8035-27f8c9510087",
   "metadata": {},
   "outputs": [],
   "source": []
  },
  {
   "cell_type": "markdown",
   "id": "a5420f88-098e-4dec-aa1d-cac5c35d8afb",
   "metadata": {},
   "source": [
    "## iterator"
   ]
  },
  {
   "cell_type": "code",
   "execution_count": 139,
   "id": "6286f3ab-2843-4cc6-b12a-4251171b1d69",
   "metadata": {},
   "outputs": [
    {
     "name": "stdout",
     "output_type": "stream",
     "text": [
      "50\n",
      "20\n",
      "40\n",
      "10\n",
      "30\n",
      "50\n",
      "20\n",
      "40\n",
      "10\n",
      "30\n"
     ]
    }
   ],
   "source": [
    "s = {10 , 20 , 30 , 40 , 50 }\n",
    "\n",
    "s_iter = iter(s) \n",
    "print(next(s_iter))\n",
    "print(next(s_iter))\n",
    "print(next(s_iter))\n",
    "print(next(s_iter))\n",
    "print(next(s_iter))\n",
    "\n",
    "for i in s:\n",
    "    print(i) "
   ]
  },
  {
   "cell_type": "markdown",
   "id": "b5a134d5-a17a-45eb-9c6b-419814175133",
   "metadata": {},
   "source": [
    "## generator"
   ]
  },
  {
   "cell_type": "code",
   "execution_count": 146,
   "id": "243edbc0-2153-4e77-8e7a-0e61e07b485e",
   "metadata": {},
   "outputs": [
    {
     "name": "stdout",
     "output_type": "stream",
     "text": [
      "[0, 1, 2, 3, 4]\n",
      "[5, 6, 7, 8, 9]\n"
     ]
    }
   ],
   "source": [
    "lst = [ x for x in range(500) ] # dataset \n",
    "\n",
    "def data_loader(chunk_size,lst):\n",
    "    for i in range(0,len(lst),chunk_size):\n",
    "        yield lst[i:i+chunk_size]\n",
    "\n",
    "\n",
    "x = data_loader(5,lst) \n",
    "\n",
    "print(next(x))\n",
    "print(next(x))\n"
   ]
  },
  {
   "cell_type": "markdown",
   "id": "3842de3a-90a2-445f-8433-35c540d0c69b",
   "metadata": {},
   "source": [
    "### Lambda function"
   ]
  },
  {
   "cell_type": "code",
   "execution_count": 147,
   "id": "900985db-39bc-440f-8430-6ea4a3211f32",
   "metadata": {},
   "outputs": [
    {
     "name": "stdout",
     "output_type": "stream",
     "text": [
      "13\n"
     ]
    }
   ],
   "source": [
    "def square_addition(x,y):\n",
    "    return x**2 + y**2 \n",
    "\n",
    "\n",
    "sq_add = lambda x,y : x**2 + y**2 \n",
    "\n",
    "print( sq_add(2,3))\n"
   ]
  },
  {
   "cell_type": "markdown",
   "id": "67167143-d70c-4f14-a5cf-b3d83031b5e0",
   "metadata": {},
   "source": [
    "## map"
   ]
  },
  {
   "cell_type": "code",
   "execution_count": 16,
   "id": "ea29b11a-41f0-4419-92b1-7f0885019b27",
   "metadata": {},
   "outputs": [
    {
     "name": "stdout",
     "output_type": "stream",
     "text": [
      "[1, 4, 9, 16, 25, 36]\n"
     ]
    }
   ],
   "source": [
    "lst = [ 1 ,2 ,3 ,4 ,5 ,6 ]\n",
    "\n",
    "def square(x):\n",
    "    return x**2 \n",
    "\n",
    "lst = list(map(square ,lst))\n",
    "\n",
    "print(lst)\n"
   ]
  },
  {
   "cell_type": "code",
   "execution_count": 19,
   "id": "c4854c79-4a5f-43e3-a541-cf5a8d63e5f9",
   "metadata": {},
   "outputs": [
    {
     "name": "stdout",
     "output_type": "stream",
     "text": [
      "['H', 'E', 'L', 'L', 'O', ' ', 'W', 'O', 'R', 'L', 'D', ',', ' ', 'W', 'E', 'L', 'C', 'O', 'M', 'E', ' ', 'T', 'O', ' ', 'T', 'H', 'E', ' ', 'A', 'G', 'E', ' ', 'O', 'F', ' ', 'A', 'I']\n",
      "H E L L O   W O R L D ,   W E L C O M E   T O   T H E   A G E   O F   A I\n"
     ]
    }
   ],
   "source": [
    "# string \n",
    "\n",
    "string = \"hello world, welcome to the age of AI\"\n",
    "string1 = list(map(str.upper , string))\n",
    "print(string1)\n",
    "string1 = \" \".join(string1)\n",
    "print(string1)\n",
    "\n"
   ]
  },
  {
   "cell_type": "code",
   "execution_count": 23,
   "id": "9509b360-a0da-4df6-9040-01409da0eec9",
   "metadata": {},
   "outputs": [
    {
     "name": "stdout",
     "output_type": "stream",
     "text": [
      "[1, 4, 3, 16, 5, 36]\n"
     ]
    }
   ],
   "source": [
    "# map with lambda function \n",
    "lst = [ 1 ,2 ,3 ,4 ,5 ,6 ]\n",
    "\n",
    "lst = list(map(lambda x : x**2,lst))\n",
    "\n",
    "print(lst)"
   ]
  },
  {
   "cell_type": "markdown",
   "id": "6c2ad1a2-71ef-4e6e-bf96-af44d84aaaca",
   "metadata": {},
   "source": [
    "## filter "
   ]
  },
  {
   "cell_type": "code",
   "execution_count": 42,
   "id": "ee0f767e-85dd-4427-89fc-9ec930c3f698",
   "metadata": {},
   "outputs": [
    {
     "name": "stdout",
     "output_type": "stream",
     "text": [
      "[51, 52, 53, 54, 55, 56, 57, 58, 59, 60, 61, 62, 63, 64, 65, 66, 67, 68, 69, 70, 71, 72, 73, 74, 75, 76, 77, 78, 79, 80, 81, 82, 83, 84, 85, 86, 87, 88, 89, 90, 91, 92, 93, 94, 95, 96, 97, 98, 99]\n"
     ]
    }
   ],
   "source": [
    "numbers = [x for x in range(100)]\n",
    "\n",
    "\n",
    "# even \n",
    "\n",
    "even = list(filter( lambda x : x % 2 ==0,numbers))\n",
    "\n",
    "#print(even)\n",
    "\n",
    "\n",
    "\n",
    "fifty_upper = list(filter( lambda x : x >50,numbers))\n",
    "\n",
    "print(fifty_upper)\n",
    "\n",
    "\n",
    "\n"
   ]
  },
  {
   "cell_type": "code",
   "execution_count": 43,
   "id": "28cbc46d-7277-4e4c-a2a6-e6e6845f17dc",
   "metadata": {},
   "outputs": [
    {
     "name": "stdout",
     "output_type": "stream",
     "text": [
      "[1, 'Hello', [1, 2], True]\n"
     ]
    }
   ],
   "source": [
    "data = [0, 1, '',None, 'Hello', [], [1, 2], None, True, False, None]\n",
    "\n",
    "cleaned_data = list(filter(None, data))\n",
    "\n",
    "print(cleaned_data) \n"
   ]
  },
  {
   "cell_type": "code",
   "execution_count": 46,
   "id": "e81a0fa3-61ed-4246-9a76-4de2fed2d302",
   "metadata": {
    "scrolled": true
   },
   "outputs": [
    {
     "name": "stdout",
     "output_type": "stream",
     "text": [
      "['E', 'O', 'O', 'E', 'O', 'E', 'O', 'E', 'A', 'E', 'O', 'A', 'I']\n"
     ]
    }
   ],
   "source": [
    "# string \n",
    "\n",
    "vowel_ = list(filter( lambda x : x in \"AEIOU\" , string1))\n",
    "\n",
    "print(vowel_)\n",
    "\n"
   ]
  },
  {
   "cell_type": "code",
   "execution_count": 47,
   "id": "10891321-52fa-4868-aa68-5e9b8f6fbae7",
   "metadata": {},
   "outputs": [
    {
     "name": "stdout",
     "output_type": "stream",
     "text": [
      "['aaa', 'cccc', 'ddddd']\n"
     ]
    }
   ],
   "source": [
    "fruits = [ 'aaa' , 'bb' , 'cccc' , 'ddddd' ]\n",
    "\n",
    "filtering = list(filter(lambda x: len(x)>2 , fruits))\n",
    "\n",
    "print(filtering) "
   ]
  },
  {
   "cell_type": "markdown",
   "id": "0bae9590-303d-434c-acdd-1aa6d760c2a8",
   "metadata": {},
   "source": [
    "## Reduce"
   ]
  },
  {
   "cell_type": "code",
   "execution_count": 52,
   "id": "42edab8e-6760-4afd-95a5-53849fd6b627",
   "metadata": {},
   "outputs": [],
   "source": [
    "from functools import reduce "
   ]
  },
  {
   "cell_type": "code",
   "execution_count": 53,
   "id": "96e3fa40-ff36-4767-a423-bec3e06f7c3e",
   "metadata": {},
   "outputs": [
    {
     "name": "stdout",
     "output_type": "stream",
     "text": [
      "21\n"
     ]
    }
   ],
   "source": [
    "lst = [ 1 ,2 ,3 ,4 ,5 ,6 ]\n",
    "\n",
    "summation = reduce(lambda x,y : x+y , lst) \n",
    "\n",
    "print(summation)"
   ]
  },
  {
   "cell_type": "code",
   "execution_count": 55,
   "id": "dc6b2841-e92c-4aee-a0ba-644cd5e637d9",
   "metadata": {},
   "outputs": [
    {
     "name": "stdout",
     "output_type": "stream",
     "text": [
      "10\n"
     ]
    }
   ],
   "source": [
    "lst = [ 1 ,2 ,10,4 ,5 ,6 ]\n",
    "\n",
    "max_value = reduce( lambda x , y :x if x > y else y ,lst) \n",
    "\n",
    "print(max_value) "
   ]
  },
  {
   "cell_type": "code",
   "execution_count": 57,
   "id": "d20ef1a4-6c9d-4fe4-84de-41a5f22c4ba4",
   "metadata": {},
   "outputs": [
    {
     "name": "stdout",
     "output_type": "stream",
     "text": [
      "['hello', 'world', 'welcome', 'to', 'programming']\n"
     ]
    }
   ],
   "source": [
    "lst = [ \"hello\", \"world\" , \"welcome\" ,\"to\", \"programming\"]\n",
    "print(lst)"
   ]
  },
  {
   "cell_type": "code",
   "execution_count": 58,
   "id": "29f8c4f6-375c-49ee-8eef-fb8b7ec0f9a3",
   "metadata": {},
   "outputs": [
    {
     "name": "stdout",
     "output_type": "stream",
     "text": [
      "hello world welcome to programming\n"
     ]
    }
   ],
   "source": [
    "string = reduce(lambda x,y : x+ \" \" + y ,lst) \n",
    "print(string)"
   ]
  },
  {
   "cell_type": "markdown",
   "id": "1dd11282",
   "metadata": {},
   "source": [
    "### quiz and practice"
   ]
  },
  {
   "cell_type": "code",
   "execution_count": 1,
   "id": "5e80a279",
   "metadata": {},
   "outputs": [
    {
     "name": "stdout",
     "output_type": "stream",
     "text": [
      "5\n"
     ]
    }
   ],
   "source": [
    "def add (a, b=2):\n",
    "    return a+b\n",
    "\n",
    "print(add(3))"
   ]
  }
 ],
 "metadata": {
  "kernelspec": {
   "display_name": "Python 3",
   "language": "python",
   "name": "python3"
  },
  "language_info": {
   "codemirror_mode": {
    "name": "ipython",
    "version": 3
   },
   "file_extension": ".py",
   "mimetype": "text/x-python",
   "name": "python",
   "nbconvert_exporter": "python",
   "pygments_lexer": "ipython3",
   "version": "3.13.2"
  }
 },
 "nbformat": 4,
 "nbformat_minor": 5
}

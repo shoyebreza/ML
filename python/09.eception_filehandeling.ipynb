{
  "cells": [
    {
      "cell_type": "markdown",
      "metadata": {
        "id": "pD-Wr6-RQtZA"
      },
      "source": [
        "## File Read"
      ]
    },
    {
      "cell_type": "code",
      "execution_count": null,
      "metadata": {
        "colab": {
          "base_uri": "https://localhost:8080/"
        },
        "id": "b8O6pifvMtH4",
        "outputId": "1d7c52fa-13b2-403a-ddf8-530beea5081d"
      },
      "outputs": [
        {
          "name": "stdout",
          "output_type": "stream",
          "text": [
            "<class 'str'>\n",
            "True\n"
          ]
        }
      ],
      "source": [
        "file = open(\"./sample_data/sample.txt\",\"r\")\n",
        "\n",
        "content = file.read()\n",
        "\n",
        "print(type(content))\n",
        "\n",
        "file.close()\n",
        "print(file.closed)"
      ]
    },
    {
      "cell_type": "code",
      "execution_count": null,
      "metadata": {
        "colab": {
          "base_uri": "https://localhost:8080/"
        },
        "id": "bzP1ULbaNFPx",
        "outputId": "fc45acfb-7a26-46c3-8398-d3be58814565"
      },
      "outputs": [
        {
          "name": "stdout",
          "output_type": "stream",
          "text": [
            "['Hello world', 'Welcome to the AI/ML with Phitron']\n"
          ]
        }
      ],
      "source": [
        "file = open(\"./sample_data/sample.txt\",\"r\")\n",
        "\n",
        "content = file.readlines()\n",
        "\n",
        "content = list(map(str.strip,content))\n",
        "\n",
        "filter_content = list(filter(lambda x : len(x)>=1,content))\n",
        "\n",
        "print(filter_content)"
      ]
    },
    {
      "cell_type": "code",
      "execution_count": null,
      "metadata": {
        "colab": {
          "base_uri": "https://localhost:8080/"
        },
        "id": "7gZyskLuN495",
        "outputId": "21bed394-bc7d-46df-dc9f-19672c0bacea"
      },
      "outputs": [
        {
          "name": "stdout",
          "output_type": "stream",
          "text": [
            "['Hello world\\n', 'Welcome to the AI/ML with Phitron\\n', ' ']\n",
            "True\n"
          ]
        }
      ],
      "source": [
        "with open(\"./sample_data/sample.txt\",\"r\") as file:\n",
        "  content = file.readlines()\n",
        "  print(content)\n",
        "\n",
        "print(file.closed)"
      ]
    },
    {
      "cell_type": "code",
      "execution_count": null,
      "metadata": {
        "colab": {
          "base_uri": "https://localhost:8080/"
        },
        "id": "E6rLWiuHOn3Q",
        "outputId": "17108ad7-6a75-406a-f41d-6db23c79d8b6"
      },
      "outputs": [
        {
          "name": "stdout",
          "output_type": "stream",
          "text": [
            "Hello world\n",
            "Welcome to the AI/ML with Phitron\n",
            " "
          ]
        }
      ],
      "source": [
        "with open(\"./sample_data/sample.txt\",\"r\") as file:\n",
        "  for line in file:\n",
        "    l = line.strip()"
      ]
    },
    {
      "cell_type": "markdown",
      "metadata": {
        "id": "QuPN7WsqQ0pR"
      },
      "source": [
        "## File Write"
      ]
    },
    {
      "cell_type": "code",
      "execution_count": null,
      "metadata": {
        "id": "SJJQ9K66Q3z3"
      },
      "outputs": [],
      "source": [
        "# creating a new file and writing there\n",
        "with open(\"./sample_data/test.txt\",\"w\") as file:\n",
        "\n",
        "  file.write(\"Hello test file\\n\")\n",
        "  file.write(\"How is learning going on ?\")\n"
      ]
    },
    {
      "cell_type": "code",
      "execution_count": null,
      "metadata": {
        "id": "Xtw5o64xR2L_"
      },
      "outputs": [],
      "source": [
        "# writing on a existing file\n",
        "# it overwrites the file\n",
        "\n",
        "with open(\"./sample_data/test.txt\",\"w\") as file:\n",
        "\n",
        "  file.write(\"Second attempt\\n\")\n",
        "  file.write(\"learning is going fast\\n\")"
      ]
    },
    {
      "cell_type": "code",
      "execution_count": null,
      "metadata": {
        "id": "9Pw-9FGuSN-w"
      },
      "outputs": [],
      "source": [
        "# No overwriting just append the text later\n",
        "# append mode\n",
        "with open(\"./sample_data/test.txt\",\"a\") as file:\n",
        "\n",
        "  file.write(\"The learning of AI/ML is fun\\n\")\n",
        "  file.write(\"I am enjoying the classes\")\n",
        "\n"
      ]
    },
    {
      "cell_type": "code",
      "execution_count": null,
      "metadata": {
        "id": "AP29zNeBSqz4"
      },
      "outputs": [],
      "source": [
        "strings = ['hello','hi','good bye','what up']\n",
        "\n",
        "with open(\"./sample_data/test2.txt\",\"a\") as file:\n",
        "\n",
        "  file.writelines(strings)\n",
        "\n",
        "\n"
      ]
    },
    {
      "cell_type": "code",
      "execution_count": null,
      "metadata": {
        "colab": {
          "base_uri": "https://localhost:8080/"
        },
        "collapsed": true,
        "id": "Lx8xXw2hfDpn",
        "outputId": "617aae7c-b6d8-4071-df75-b6b66bcc2ce3"
      },
      "outputs": [
        {
          "name": "stdout",
          "output_type": "stream",
          "text": [
            "0\n",
            "Hello world\n",
            "11\n",
            "\n"
          ]
        }
      ],
      "source": [
        "with open(\"./sample_data/sample.txt\",\"r\") as file:\n",
        "  print(file.tell()) # currently cursor koi ase\n",
        "  print(file.read())\n",
        "  print(file.tell())\n",
        "  ## last index theke pora shuru korsi\n",
        "  print(file.read())\n"
      ]
    },
    {
      "cell_type": "code",
      "execution_count": null,
      "metadata": {
        "colab": {
          "base_uri": "https://localhost:8080/"
        },
        "id": "Z-0t39safDjI",
        "outputId": "1aeb8296-0f27-4a82-b308-853df5aaa568"
      },
      "outputs": [
        {
          "name": "stdout",
          "output_type": "stream",
          "text": [
            "0\n",
            "Hello\n",
            "5\n",
            " world\n",
            "11\n"
          ]
        }
      ],
      "source": [
        "with open(\"./sample_data/sample.txt\",\"r\") as file:\n",
        "  print(file.tell())\n",
        "  print(file.read(5))\n",
        "  print(file.tell())\n",
        "\n",
        "  print(file.read())\n",
        "  print(file.tell())\n",
        "\n"
      ]
    },
    {
      "cell_type": "code",
      "execution_count": null,
      "metadata": {
        "colab": {
          "base_uri": "https://localhost:8080/"
        },
        "id": "7h2DXMdCfDfO",
        "outputId": "b3c2d55f-c57f-4419-eb89-e11bc745a1e5"
      },
      "outputs": [
        {
          "name": "stdout",
          "output_type": "stream",
          "text": [
            "0\n",
            "Hello\n",
            "5\n",
            "0\n",
            "Hello\n"
          ]
        }
      ],
      "source": [
        "#seek\n",
        "\n",
        "with open(\"./sample_data/sample.txt\",\"r\") as file:\n",
        "  print(file.tell())\n",
        "\n",
        "  print(file.read(5))\n",
        "\n",
        "  print(file.tell())\n",
        "\n",
        "  file.seek(0)\n",
        "  print(file.tell())\n",
        "  print(file.read(5))\n"
      ]
    },
    {
      "cell_type": "markdown",
      "metadata": {
        "id": "sSKTTEVUbXwx"
      },
      "source": [
        "## Practice 1 :\n",
        "\n",
        "Get the text from sample.txt , and count the following\n",
        "\n",
        "\n",
        "Number of lines\n",
        "\n",
        "Number of words\n",
        "\n",
        "Number of characters\n",
        "\n",
        "and save it to the counter_of_string.txt file"
      ]
    },
    {
      "cell_type": "code",
      "execution_count": null,
      "metadata": {
        "id": "r_TzwEHPbfwA"
      },
      "outputs": [],
      "source": [
        "from functools import reduce\n",
        "\n",
        "with open(\"./sample_data/sample.txt\",\"r\") as file:\n",
        "  string_list = file.readlines()\n",
        "\n",
        "  # total line koita\n",
        "  total_lines = len(string_list)\n",
        "\n",
        "  # word ber korbo\n",
        "  number_of_words = list(map(lambda x : len(x.split()),string_list))\n",
        "  #total words\n",
        "  total_number_of_words = reduce(lambda x,y : x+y ,number_of_words)\n",
        "\n",
        "  #cleaning process\n",
        "\n",
        "  # 1. new line delete\n",
        "  string_list = list(map(str.strip,string_list))\n",
        "\n",
        "  #2. space delete\n",
        "\n",
        "  string_list = list(map(lambda x : x.replace(\" \",\"\"),string_list))\n",
        "\n",
        "  # koita character\n",
        "\n",
        "  number_of_character = list(map(lambda x : len(x),string_list))\n",
        "\n",
        "  # total character\n",
        "  total_number_of_characters = reduce(lambda x,y : x+y ,number_of_character)\n",
        "\n",
        "\n",
        "\n",
        "with open(\"./sample_data/counter_of_string.txt\",\"w\") as file:\n",
        "  file.write(f\"total line: {total_lines}\\ntotal number of words:{total_number_of_words}\\ntotal number of char: {total_number_of_characters}\")\n",
        "\n",
        "\n",
        "\n"
      ]
    },
    {
      "cell_type": "markdown",
      "metadata": {
        "id": "YxnAZDo1otcO"
      },
      "source": []
    },
    {
      "cell_type": "markdown",
      "metadata": {
        "id": "YgSDCzyQmO_G"
      },
      "source": [
        "## Practice 2\n",
        "Write then read with one open"
      ]
    },
    {
      "cell_type": "code",
      "execution_count": null,
      "metadata": {
        "colab": {
          "base_uri": "https://localhost:8080/"
        },
        "id": "yedBbO5ombcU",
        "outputId": "41384a91-311d-413a-a30d-618debd92a7c"
      },
      "outputs": [
        {
          "name": "stdout",
          "output_type": "stream",
          "text": [
            "11\n",
            "0\n",
            "Hello world\n",
            "Hello\n"
          ]
        }
      ],
      "source": [
        "with open(\"./sample_data/write_read.txt\",\"w+\") as file:\n",
        "  file.write(\"Hello world\")\n",
        "\n",
        "  print(file.tell())\n",
        "\n",
        "  file.seek(0)\n",
        "  print(file.tell())\n",
        "\n",
        "  print(file.read())\n",
        "\n",
        "  file.truncate(5)\n",
        "\n",
        "  file.seek(0)\n",
        "\n",
        "  print(file.read())\n",
        "\n",
        "\n",
        "\n"
      ]
    },
    {
      "cell_type": "code",
      "execution_count": null,
      "metadata": {
        "id": "NdiMMhHEzvfT"
      },
      "outputs": [],
      "source": []
    },
    {
      "cell_type": "markdown",
      "metadata": {
        "id": "0EpyuF8PD6w7"
      },
      "source": [
        "# Exception Handling"
      ]
    },
    {
      "cell_type": "code",
      "execution_count": null,
      "metadata": {
        "colab": {
          "base_uri": "https://localhost:8080/"
        },
        "id": "38YQh8dfD90o",
        "outputId": "12f27bfd-e716-42ab-f917-58901099649e"
      },
      "outputs": [
        {
          "name": "stdout",
          "output_type": "stream",
          "text": [
            "0\n",
            "you cant divide a number by 0\n",
            "hello world\n"
          ]
        }
      ],
      "source": [
        "n = int(input())\n",
        "\n",
        "try:\n",
        "  a = 10/0\n",
        "except ZeroDivisionError:\n",
        "  print(\"you cant divide a number by 0\")\n",
        "\n",
        "print(\"hello world\")"
      ]
    },
    {
      "cell_type": "code",
      "execution_count": null,
      "metadata": {
        "colab": {
          "base_uri": "https://localhost:8080/"
        },
        "id": "ScbviR39QfiP",
        "outputId": "89afb29f-77b5-498d-abb9-dc1cd75c8f86"
      },
      "outputs": [
        {
          "name": "stdout",
          "output_type": "stream",
          "text": [
            "name 'y' is not defined\n",
            "hello world\n"
          ]
        }
      ],
      "source": [
        "\n",
        "try:\n",
        "  x = y\n",
        "except ZeroDivisionError:\n",
        "  print(\"you cant divide a number by 0\")\n",
        "except Exception as e:\n",
        "  print(e)\n",
        "\n",
        "\n",
        "print(\"hello world\")"
      ]
    },
    {
      "cell_type": "code",
      "execution_count": null,
      "metadata": {
        "colab": {
          "base_uri": "https://localhost:8080/"
        },
        "id": "_h9f9zbLUIgW",
        "outputId": "bcbb6d81-89f6-4974-d60d-c13f17ff7c86"
      },
      "outputs": [
        {
          "name": "stdout",
          "output_type": "stream",
          "text": [
            "hello\n",
            "Gpu is stopped\n"
          ]
        }
      ],
      "source": [
        "# model train\n",
        "\n",
        "\n",
        "try:\n",
        "  file = open(\"./sample_data/data1.txt\",\"r\")\n",
        "except Exception as e:\n",
        "  print(e)\n",
        "else:\n",
        "  # model train\n",
        "  print(file.read())\n",
        "finally:\n",
        "  print(\"Gpu is stopped\")\n",
        "\n"
      ]
    },
    {
      "cell_type": "code",
      "execution_count": null,
      "metadata": {
        "id": "VVpv_SYjVEjO"
      },
      "outputs": [],
      "source": []
    }
  ],
  "metadata": {
    "colab": {
      "provenance": []
    },
    "kernelspec": {
      "display_name": "Python 3",
      "name": "python3"
    },
    "language_info": {
      "name": "python",
      "version": "3.13.2"
    }
  },
  "nbformat": 4,
  "nbformat_minor": 0
}

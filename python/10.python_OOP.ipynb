{
  "nbformat": 4,
  "nbformat_minor": 0,
  "metadata": {
    "colab": {
      "provenance": []
    },
    "kernelspec": {
      "name": "python3",
      "display_name": "Python 3"
    },
    "language_info": {
      "name": "python"
    }
  },
  "cells": [
    {
      "cell_type": "markdown",
      "source": [
        "# Class and Objects\n"
      ],
      "metadata": {
        "id": "oIhPfIXH7XRn"
      }
    },
    {
      "cell_type": "code",
      "source": [
        "# base class / parent class\n",
        "class Phone:\n",
        "  category = \"Electronics\"\n",
        "\n",
        "  # constructor\n",
        "\n",
        "  def __init__(self,model , battery , camera,battery_percentage=100):\n",
        "    self.model = model\n",
        "    self.battery = battery\n",
        "    self.camera = camera\n",
        "    self.battery_percentage = battery_percentage\n",
        "\n",
        "  # methods\n",
        "  def charge(self,hour):\n",
        "    print(f\"charge completed by {hour}\")\n",
        "\n",
        "  def capture(self,photo):\n",
        "    if(self.battery_percentage)<=0:\n",
        "      print(\"No charge\")\n",
        "    else:\n",
        "      self.battery_percentage-=photo\n",
        "      print(f\"photo captured in {self.model}\")\n",
        "\n",
        "\n",
        "\n",
        "class Cooling_Mechanism:\n",
        "  def __init__(self,cooling_method):\n",
        "    self.cooling_method= cooling_method\n",
        "\n",
        "\n",
        "  #methods\n",
        "  def cooling_on(self):\n",
        "    print(f\"the system is being cool by {self.cooling_method}\")\n",
        "\n",
        "\n",
        "\n"
      ],
      "metadata": {
        "id": "73GVXeKt7bbU"
      },
      "execution_count": null,
      "outputs": []
    },
    {
      "cell_type": "code",
      "source": [
        "## creating object\n",
        "\n",
        "apple = Phone(\"Iphone17\",3000,40)\n",
        "blueberry = Phone(\"B-17\",4000,30)\n",
        "motorola = Phone(\"M-17\",3500,35)\n",
        "apple.capture(10)\n",
        "print(motorola.battery_percentage)\n"
      ],
      "metadata": {
        "colab": {
          "base_uri": "https://localhost:8080/"
        },
        "id": "0Vvf8D1p7mN9",
        "outputId": "b76ccd89-e811-4d00-b4db-a77b25c902a2"
      },
      "execution_count": null,
      "outputs": [
        {
          "output_type": "stream",
          "name": "stdout",
          "text": [
            "photo captured in Iphone17\n",
            "100\n"
          ]
        }
      ]
    },
    {
      "cell_type": "markdown",
      "source": [
        "## Single Inheritance"
      ],
      "metadata": {
        "id": "yd5l8cl9I1w6"
      }
    },
    {
      "cell_type": "code",
      "source": [
        "# child / derived class\n",
        "class SmartPhone(Phone):\n",
        "  def __init__(self,model , battery , camera,processor):\n",
        "    super().__init__(model,battery,camera)\n",
        "    self.processor = processor\n",
        "\n",
        "   ## modified method\n",
        "  def charge(self,hour):\n",
        "    print(\"fast charging in process\")\n",
        "    super().charge(hour)\n",
        "\n",
        "\n",
        "\n"
      ],
      "metadata": {
        "id": "F6a9-OP6MfJn"
      },
      "execution_count": null,
      "outputs": []
    },
    {
      "cell_type": "code",
      "source": [
        "pro = SmartPhone(\"X\",5000,100,\"SnapDragon\")\n",
        "\n",
        "print(pro.model)\n",
        "\n",
        "pro.charge(1)"
      ],
      "metadata": {
        "colab": {
          "base_uri": "https://localhost:8080/"
        },
        "id": "dTXFQGDMUSDS",
        "outputId": "c035dca3-d780-4054-c7f1-2238554c9c96"
      },
      "execution_count": null,
      "outputs": [
        {
          "output_type": "stream",
          "name": "stdout",
          "text": [
            "X\n",
            "fast charging in process\n",
            "charge completed by 1\n"
          ]
        }
      ]
    },
    {
      "cell_type": "code",
      "source": [],
      "metadata": {
        "id": "dJNoLIW7UcG6"
      },
      "execution_count": null,
      "outputs": []
    },
    {
      "cell_type": "markdown",
      "source": [
        "## Multiple Inheritance"
      ],
      "metadata": {
        "id": "COG8FajFV5te"
      }
    },
    {
      "cell_type": "code",
      "source": [
        "class SmartPhone_CoolingMode(SmartPhone,Cooling_Mechanism):\n",
        "   def __init__(self,model , battery , camera,processor,cooling_method):\n",
        "    SmartPhone.__init__(self,model,battery,camera,processor)\n",
        "    Cooling_Mechanism.__init__(self,cooling_method)\n",
        "\n"
      ],
      "metadata": {
        "id": "ZqWqkp0DV7xx"
      },
      "execution_count": null,
      "outputs": []
    },
    {
      "cell_type": "code",
      "source": [
        "pro_cooling = SmartPhone_CoolingMode(\"Y\",5000,100,\"SD\",\"Nitrogen\")\n",
        "\n",
        "print(pro_cooling.processor) # SmartPhone class theke\n",
        "print(pro_cooling.battery) # Phone class theke\n",
        "print(pro_cooling.cooling_method) # Cooling_Mechanism class theke\n",
        "print(pro_cooling.cooling_on()) # Cooling_Mechanism class er method\n",
        "print(pro_cooling.charge(1)) # SmartPhone er modified charge jeta Phone class theke inherited"
      ],
      "metadata": {
        "colab": {
          "base_uri": "https://localhost:8080/"
        },
        "id": "YxltogQqXBQR",
        "outputId": "7ec904ab-970d-4dd9-eadc-eeabefc9e18c"
      },
      "execution_count": null,
      "outputs": [
        {
          "output_type": "stream",
          "name": "stdout",
          "text": [
            "SD\n",
            "5000\n",
            "Nitrogen\n",
            "the system is being cool by Nitrogen\n",
            "None\n",
            "fast charging in process\n",
            "charge completed by 1\n",
            "None\n"
          ]
        }
      ]
    },
    {
      "cell_type": "code",
      "source": [],
      "metadata": {
        "id": "R-ideGtIXuy4"
      },
      "execution_count": null,
      "outputs": []
    },
    {
      "cell_type": "markdown",
      "source": [
        "## Polymorphsim\n"
      ],
      "metadata": {
        "id": "iabydKNhe2Zo"
      }
    },
    {
      "cell_type": "code",
      "source": [
        "class Camera:\n",
        "  def __init__(self , name):\n",
        "    self.name = name\n",
        "\n",
        " # method\n",
        "  def capture(self):\n",
        "    print(\"a photo is captured\")"
      ],
      "metadata": {
        "id": "yL2HWcUIe5at"
      },
      "execution_count": null,
      "outputs": []
    },
    {
      "cell_type": "code",
      "source": [
        "class Smart_Phone(Camera):\n",
        "  def __init__(self,name,resolution):\n",
        "    super().__init__(name)\n",
        "    self.resolution = resolution\n",
        "\n",
        "  #method overriding\n",
        "  def capture(self):\n",
        "    print(\"Photo is captured by a Phone\")\n",
        "\n",
        "\n",
        "class DSLR(Camera):\n",
        "  def __init__(self,name,resolution):\n",
        "    super().__init__(name)\n",
        "    self.resolution = resolution\n",
        "\n",
        "  def capture(self):\n",
        "    print(\"Photo is captured  by DSLR\")\n",
        "\n",
        "\n",
        "\n",
        "class Drone(Camera):\n",
        "  def __init__(self,name,resolution):\n",
        "    super().__init__(name)\n",
        "    self.resolution = resolution\n",
        "\n",
        "  def capture(self):\n",
        "    print(\"Photo is captured by Drone\")\n",
        "\n",
        "\n",
        "\n",
        "phone = Smart_Phone(\"Phone\",30)\n",
        "dslr = DSLR (\"DSLR\",200)\n",
        "drone = Drone(\"Drone\",150)\n",
        "\n",
        "\n",
        "phone.capture()\n",
        "dslr.capture()\n",
        "drone.capture()\n"
      ],
      "metadata": {
        "colab": {
          "base_uri": "https://localhost:8080/"
        },
        "id": "_xkfox_0f6TP",
        "outputId": "73fb844e-95f8-4405-c631-8c1ed8b012af"
      },
      "execution_count": null,
      "outputs": [
        {
          "output_type": "stream",
          "name": "stdout",
          "text": [
            "Photo is captured by a Phone\n",
            "Photo is captured  by DSLR\n",
            "Photo is captured by Drone\n"
          ]
        }
      ]
    },
    {
      "cell_type": "code",
      "source": [],
      "metadata": {
        "id": "7oepA369jKQ1"
      },
      "execution_count": null,
      "outputs": []
    },
    {
      "cell_type": "code",
      "source": [],
      "metadata": {
        "id": "dHCeUeCYjlVk"
      },
      "execution_count": null,
      "outputs": []
    },
    {
      "cell_type": "markdown",
      "source": [
        "# Encapsulation"
      ],
      "metadata": {
        "id": "SGJh23wFr1xN"
      }
    },
    {
      "cell_type": "code",
      "source": [
        "# design\n",
        "class Mobile:\n",
        "  def __init__(self,name,model,imei):\n",
        "    self.__name = name\n",
        "    self.__model = model\n",
        "    self.__imei = imei # private\n",
        "\n",
        "  def charge(self):\n",
        "    print(\"phone is charging\")\n",
        "\n",
        "  # method imei ta paite pari\n",
        "  def imei_getter(self):\n",
        "    return self.__imei\n",
        "  def model_getter(self):\n",
        "    return self.__model\n",
        "\n",
        "\n",
        "\n",
        "  def name_getter(self):\n",
        "    return self.__name\n",
        "\n",
        "\n",
        "  def name_setter(self,name):\n",
        "    self.__name = name\n",
        "\n",
        "\n",
        "\n",
        "\n",
        "\n",
        "\n",
        "\n",
        "#outside world ( user )\n",
        "\n",
        "# registration\n",
        "iphone = Mobile(\"Phone\",\"17\",\"1xkaf1\")\n",
        "\n",
        "print(iphone.name_getter())\n",
        "\n",
        "iphone.name_setter(\"Phitron\")\n",
        "\n",
        "\n",
        "print(iphone.name_getter())\n",
        "\n"
      ],
      "metadata": {
        "colab": {
          "base_uri": "https://localhost:8080/"
        },
        "id": "Bds6KONor3mf",
        "outputId": "839e6c9f-71fc-47eb-e457-f69c26b371fc"
      },
      "execution_count": null,
      "outputs": [
        {
          "output_type": "stream",
          "name": "stdout",
          "text": [
            "Phone\n",
            "Phitron\n"
          ]
        }
      ]
    },
    {
      "cell_type": "code",
      "source": [],
      "metadata": {
        "id": "0SfPvILeseEo"
      },
      "execution_count": null,
      "outputs": []
    },
    {
      "cell_type": "markdown",
      "source": [
        "## Abstraction"
      ],
      "metadata": {
        "id": "2jdfurcByK9y"
      }
    },
    {
      "cell_type": "code",
      "source": [
        "from abc import  ABC , abstractmethod\n",
        "\n",
        "class Telephone(ABC):\n",
        "\n",
        "  @abstractmethod\n",
        "  def make_call(self):\n",
        "    pass\n",
        "\n",
        "\n",
        "\n",
        "class Sphone(Telephone):\n",
        "  def make_call(self):\n",
        "    print(\"Making a call using SPhone\")\n",
        "\n",
        "\n",
        "\n",
        "class Iphone(Telephone):\n",
        "   def make_call(self):\n",
        "    print(\"Making a call using IPhone\")\n",
        "\n",
        "\n"
      ],
      "metadata": {
        "id": "T_AKFS6GyNEV"
      },
      "execution_count": null,
      "outputs": []
    },
    {
      "cell_type": "code",
      "source": [
        "ip = Iphone()\n",
        "\n",
        "ip.make_call()\n"
      ],
      "metadata": {
        "colab": {
          "base_uri": "https://localhost:8080/"
        },
        "id": "GpPaWLlN6jna",
        "outputId": "4b236597-ad5c-49ee-b53d-396c66ef96f9"
      },
      "execution_count": null,
      "outputs": [
        {
          "output_type": "stream",
          "name": "stdout",
          "text": [
            "Making a call using IPhone\n"
          ]
        }
      ]
    },
    {
      "cell_type": "code",
      "source": [],
      "metadata": {
        "id": "Jjt3gw3j6mjZ"
      },
      "execution_count": null,
      "outputs": []
    }
  ]
}
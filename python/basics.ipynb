{
 "cells": [
  {
   "cell_type": "code",
   "execution_count": 1,
   "id": "8e738f2c",
   "metadata": {},
   "outputs": [
    {
     "name": "stdout",
     "output_type": "stream",
     "text": [
      "hello\n"
     ]
    }
   ],
   "source": [
    "print(\"hello\")"
   ]
  },
  {
   "cell_type": "code",
   "execution_count": 1,
   "id": "764d6cd9",
   "metadata": {},
   "outputs": [
    {
     "name": "stdout",
     "output_type": "stream",
     "text": [
      "Welcome\n",
      "<class 'int'>\n"
     ]
    }
   ],
   "source": [
    "print('Welcome')\n",
    "age =20\n",
    "\n",
    "print(type(age))"
   ]
  },
  {
   "cell_type": "markdown",
   "id": "1775f382",
   "metadata": {},
   "source": [
    "taking input in python"
   ]
  },
  {
   "cell_type": "code",
   "execution_count": null,
   "id": "b693c6f5",
   "metadata": {},
   "outputs": [
    {
     "name": "stdout",
     "output_type": "stream",
     "text": [
      "shoyeb\n"
     ]
    }
   ],
   "source": [
    "name = input('what is your name?')\n",
    "print(name)\n"
   ]
  },
  {
   "cell_type": "code",
   "execution_count": 5,
   "id": "9447fce7",
   "metadata": {},
   "outputs": [
    {
     "name": "stdout",
     "output_type": "stream",
     "text": [
      "22\n",
      "<class 'str'>\n",
      "22\n",
      "<class 'int'>\n"
     ]
    }
   ],
   "source": [
    "age = input(\"age ?\")\n",
    "print(age)\n",
    "print(type(age))\n",
    "\n",
    "age = int(age)\n",
    "print(age)\n",
    "print(type(age))"
   ]
  },
  {
   "cell_type": "code",
   "execution_count": 7,
   "id": "1d305b3c",
   "metadata": {},
   "outputs": [
    {
     "name": "stdout",
     "output_type": "stream",
     "text": [
      "22.0 <class 'float'>\n"
     ]
    }
   ],
   "source": [
    "height = float(input(\"Height ?\"))\n",
    "print(height, type(height))"
   ]
  },
  {
   "cell_type": "markdown",
   "id": "d9cf005b",
   "metadata": {},
   "source": [
    "Operator in python"
   ]
  },
  {
   "cell_type": "code",
   "execution_count": 9,
   "id": "4fa11b4a",
   "metadata": {},
   "outputs": [
    {
     "name": "stdout",
     "output_type": "stream",
     "text": [
      "13 7 30 3.3333333333333335 1\n"
     ]
    }
   ],
   "source": [
    "x= 10; y = 3\n",
    "sum = x+y\n",
    "sub = x-y\n",
    "mult = x*y\n",
    "div = x/y\n",
    "rem = x%y\n",
    "\n",
    "\n",
    "print(sum, sub, mult, div, rem)\n"
   ]
  },
  {
   "cell_type": "code",
   "execution_count": null,
   "id": "64fe7a2c",
   "metadata": {},
   "outputs": [
    {
     "name": "stdout",
     "output_type": "stream",
     "text": [
      "True\n"
     ]
    }
   ],
   "source": [
    "x,y= 10,3\n",
    "\n",
    "greater_than = x>y\n",
    "less_than = y<x\n",
    "gt_equal = (10>=10)\n",
    "lt_equal = (10 <=10)\n",
    "print(greater_than)\n"
   ]
  },
  {
   "cell_type": "markdown",
   "id": "59eba52a",
   "metadata": {},
   "source": [
    "Logical operator"
   ]
  },
  {
   "cell_type": "code",
   "execution_count": 2,
   "id": "43ea00c6",
   "metadata": {},
   "outputs": [
    {
     "name": "stdout",
     "output_type": "stream",
     "text": [
      "True\n"
     ]
    }
   ],
   "source": [
    "x,y,z = 10,5,3\n",
    "\n",
    "result = (x>y) and (x>z)\n",
    "print(result)"
   ]
  },
  {
   "cell_type": "code",
   "execution_count": 8,
   "id": "ef6c3f55",
   "metadata": {},
   "outputs": [
    {
     "name": "stdout",
     "output_type": "stream",
     "text": [
      "False\n",
      "3\n",
      "3.5\n",
      "<class 'float'>\n"
     ]
    }
   ],
   "source": [
    "x,y,z = 10,5,33\n",
    "\n",
    "result = (x>y) and (x>z)\n",
    "print(result)\n",
    "\n",
    "print(7//2)\n",
    "print(7/2)\n",
    "\n",
    "num = float(input())\n",
    "print(type(num))"
   ]
  },
  {
   "cell_type": "markdown",
   "id": "f33a4bfb",
   "metadata": {},
   "source": [
    "precedence and associativity"
   ]
  },
  {
   "cell_type": "code",
   "execution_count": 4,
   "id": "24ccf758",
   "metadata": {},
   "outputs": [
    {
     "data": {
      "text/plain": [
       "5.0"
      ]
     },
     "execution_count": 4,
     "metadata": {},
     "output_type": "execute_result"
    }
   ],
   "source": [
    "eq= 10 + 10/2-5*2\n",
    "eq"
   ]
  },
  {
   "cell_type": "markdown",
   "id": "3db57e0d",
   "metadata": {},
   "source": [
    "Problem: Digit Summation"
   ]
  },
  {
   "cell_type": "code",
   "execution_count": 71,
   "id": "05dc5202",
   "metadata": {},
   "outputs": [
    {
     "name": "stdout",
     "output_type": "stream",
     "text": [
      "5.0\n",
      "0.0\n"
     ]
    }
   ],
   "source": [
    "eq = 10 + 10/2 - 5*2 # precedency maintain korbe\n",
    "print(eq)\n",
    "\n",
    "eq = (10+10)/2 - 5*2 ## ekhane bracket e part tuku ageh compute hobe \n",
    "\n",
    "print(eq)\n"
   ]
  },
  {
   "cell_type": "markdown",
   "id": "84dc34ad",
   "metadata": {},
   "source": [
    "## Problem : Digit Summation "
   ]
  },
  {
   "cell_type": "code",
   "execution_count": null,
   "id": "d8a857ee",
   "metadata": {},
   "outputs": [
    {
     "name": "stdout",
     "output_type": "stream",
     "text": [
      "5\n"
     ]
    }
   ],
   "source": [
    "inp = input()\n",
    "\n",
    "numbers = inp.split()\n",
    "\n",
    "x = int(numbers[0]) # 13\n",
    "\n",
    "y = int(numbers[1]) # 12 \n",
    "\n",
    "last_digit_of_x = x % 10 \n",
    "last_digit_of_y = y % 10 \n",
    "\n",
    "sum = last_digit_of_x + last_digit_of_y \n",
    "\n",
    "print(sum)\n",
    "\n"
   ]
  }
 ],
 "metadata": {
  "kernelspec": {
   "display_name": "Python 3",
   "language": "python",
   "name": "python3"
  },
  "language_info": {
   "codemirror_mode": {
    "name": "ipython",
    "version": 3
   },
   "file_extension": ".py",
   "mimetype": "text/x-python",
   "name": "python",
   "nbconvert_exporter": "python",
   "pygments_lexer": "ipython3",
   "version": "3.13.7"
  }
 },
 "nbformat": 4,
 "nbformat_minor": 5
}
